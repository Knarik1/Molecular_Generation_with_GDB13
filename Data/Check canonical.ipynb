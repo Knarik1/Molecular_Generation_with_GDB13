{
 "cells": [
  {
   "cell_type": "code",
   "execution_count": 13,
   "id": "d250d4e5",
   "metadata": {},
   "outputs": [],
   "source": [
    "import json\n",
    "\n",
    "from rdkit import Chem\n",
    "from tqdm import tqdm\n",
    "import selfies as sf"
   ]
  },
  {
   "cell_type": "code",
   "execution_count": 3,
   "id": "f1ee06ee",
   "metadata": {},
   "outputs": [],
   "source": [
    "with open(\"./data-subsets/gdb13.1M.training.txt\", \"r\") as f:\n",
    "    train_data = f.read().splitlines()"
   ]
  },
  {
   "cell_type": "code",
   "execution_count": 4,
   "id": "81fa52d8",
   "metadata": {},
   "outputs": [],
   "source": [
    "with open(\"./data-subsets/gdb13.1M.validation.txt\", \"r\") as f:\n",
    "    valid_data = f.read().splitlines()"
   ]
  },
  {
   "cell_type": "code",
   "execution_count": 5,
   "id": "ebe24fff",
   "metadata": {},
   "outputs": [
    {
     "data": {
      "text/plain": [
       "(1000000, 1000000)"
      ]
     },
     "execution_count": 5,
     "metadata": {},
     "output_type": "execute_result"
    }
   ],
   "source": [
    "len(train_data), len(valid_data)"
   ]
  },
  {
   "cell_type": "code",
   "execution_count": 6,
   "id": "e0ec2186",
   "metadata": {},
   "outputs": [
    {
     "data": {
      "text/plain": [
       "['CC1OC2(C)C1C(=N)N(O)C2C',\n",
       " 'NC1CC2CCC(C1)C1NC1CO2',\n",
       " 'CC(CO)N1CC2OC2(CN)C=N1',\n",
       " 'N#CC(=CC1CO1)c1cocc1N',\n",
       " 'CC1C(C)(N)C1(N)C1C=CC(N)C1']"
      ]
     },
     "execution_count": 6,
     "metadata": {},
     "output_type": "execute_result"
    }
   ],
   "source": [
    "train_data[:5]"
   ]
  },
  {
   "cell_type": "code",
   "execution_count": 7,
   "id": "6df1b7ad",
   "metadata": {},
   "outputs": [
    {
     "data": {
      "text/plain": [
       "['CCOC(C#N)=C1CNC(=O)CN1',\n",
       " 'CC12OC=NOC13CON=CC23O',\n",
       " 'C=CC(=NN)OC1(C=NO)CCC1',\n",
       " 'CCC1C2OCC3NC3C(CO)C12',\n",
       " 'C#CC=CC1COC2C(CO)C12N']"
      ]
     },
     "execution_count": 7,
     "metadata": {},
     "output_type": "execute_result"
    }
   ],
   "source": [
    "valid_data[:5]"
   ]
  },
  {
   "cell_type": "code",
   "execution_count": 8,
   "id": "a99b3fd1",
   "metadata": {},
   "outputs": [],
   "source": [
    "def check_canon(smi):\n",
    "    return smi == Chem.MolToSmiles(Chem.MolFromSmiles(smi))"
   ]
  },
  {
   "cell_type": "code",
   "execution_count": 32,
   "id": "f0f82920",
   "metadata": {},
   "outputs": [],
   "source": [
    "def make_canon(smi):\n",
    "    canon_smi = None\n",
    "    \n",
    "    try:\n",
    "        canon_smi = Chem.MolToSmiles(Chem.MolFromSmiles(smi))\n",
    "    except:\n",
    "        pass\n",
    "    \n",
    "    return canon_smi"
   ]
  },
  {
   "cell_type": "code",
   "execution_count": 20,
   "id": "02e496d9",
   "metadata": {},
   "outputs": [
    {
     "name": "stderr",
     "output_type": "stream",
     "text": [
      "  2%|██▉                                                                                                                                                         | 18823/1000000 [00:02<01:55, 8467.43it/s]"
     ]
    },
    {
     "name": "stdout",
     "output_type": "stream",
     "text": [
      "CCc1nccoc2cc(no2)[nH]1\n"
     ]
    },
    {
     "name": "stderr",
     "output_type": "stream",
     "text": [
      "  3%|█████▏                                                                                                                                                      | 33263/1000000 [00:03<01:54, 8464.52it/s]"
     ]
    },
    {
     "name": "stdout",
     "output_type": "stream",
     "text": [
      "c1ncc2cncc3csc(n1)c23\n"
     ]
    },
    {
     "name": "stderr",
     "output_type": "stream",
     "text": [
      "  6%|█████████▋                                                                                                                                                  | 62148/1000000 [00:07<01:53, 8288.20it/s]"
     ]
    },
    {
     "name": "stdout",
     "output_type": "stream",
     "text": [
      "Nc1ccconc2[nH]cc1-n-2\n"
     ]
    },
    {
     "name": "stderr",
     "output_type": "stream",
     "text": [
      "  7%|██████████▌                                                                                                                                                 | 68015/1000000 [00:08<01:52, 8263.89it/s]"
     ]
    },
    {
     "name": "stdout",
     "output_type": "stream",
     "text": [
      "O=c1ccnc[nH]c2c[nH]cc1o2\n"
     ]
    },
    {
     "name": "stderr",
     "output_type": "stream",
     "text": [
      "  7%|███████████▏                                                                                                                                                | 71418/1000000 [00:08<01:51, 8337.79it/s]"
     ]
    },
    {
     "name": "stdout",
     "output_type": "stream",
     "text": [
      "Cc1nnc2occc3nsc1c32\n",
      "O=c1-c2c#cc#cc(=O)[nH]c-1cc2\n"
     ]
    },
    {
     "name": "stderr",
     "output_type": "stream",
     "text": [
      "  7%|███████████▌                                                                                                                                                | 73967/1000000 [00:08<01:50, 8373.30it/s]"
     ]
    },
    {
     "name": "stdout",
     "output_type": "stream",
     "text": [
      "Clc1cc2ccocnnc(c1)-o-2\n"
     ]
    },
    {
     "name": "stderr",
     "output_type": "stream",
     "text": [
      "  8%|████████████▎                                                                                                                                               | 79060/1000000 [00:09<01:51, 8224.69it/s]"
     ]
    },
    {
     "name": "stdout",
     "output_type": "stream",
     "text": [
      "Cn1[nH]c(=O)ccoc2ncc1s2\n"
     ]
    },
    {
     "name": "stderr",
     "output_type": "stream",
     "text": [
      " 11%|████████████████▎                                                                                                                                          | 105447/1000000 [00:12<01:44, 8544.71it/s]"
     ]
    },
    {
     "name": "stdout",
     "output_type": "stream",
     "text": [
      "N=c1nc2ccoc3scc(o1)c23\n"
     ]
    },
    {
     "name": "stderr",
     "output_type": "stream",
     "text": [
      " 12%|█████████████████▉                                                                                                                                         | 115839/1000000 [00:13<01:41, 8707.50it/s]"
     ]
    },
    {
     "name": "stdout",
     "output_type": "stream",
     "text": [
      "Cc1nnc2scc(c(C)no1)-s-2\n",
      "Cc1coccoc2sc1nc2C\n"
     ]
    },
    {
     "name": "stderr",
     "output_type": "stream",
     "text": [
      " 13%|███████████████████▊                                                                                                                                       | 128050/1000000 [00:15<01:41, 8551.81it/s]"
     ]
    },
    {
     "name": "stdout",
     "output_type": "stream",
     "text": [
      "C1=Nc2c3[nH]cc2c1c[nH]cn[nH]3\n"
     ]
    },
    {
     "name": "stderr",
     "output_type": "stream",
     "text": [
      " 16%|████████████████████████▋                                                                                                                                  | 158901/1000000 [00:18<01:38, 8528.86it/s]"
     ]
    },
    {
     "name": "stdout",
     "output_type": "stream",
     "text": [
      "Cc1nncoc2ccc(o2)n1N\n"
     ]
    },
    {
     "name": "stderr",
     "output_type": "stream",
     "text": [
      " 18%|████████████████████████████▏                                                                                                                              | 181981/1000000 [00:21<01:34, 8632.70it/s]"
     ]
    },
    {
     "name": "stdout",
     "output_type": "stream",
     "text": [
      "c1cc2cncnc3ncc(n1)n23\n"
     ]
    },
    {
     "name": "stderr",
     "output_type": "stream",
     "text": [
      " 19%|█████████████████████████████▎                                                                                                                             | 188953/1000000 [00:22<01:33, 8695.06it/s]"
     ]
    },
    {
     "name": "stdout",
     "output_type": "stream",
     "text": [
      "c1c2n[nH]c(nc3ncc(c#1)s3)-s-2\n"
     ]
    },
    {
     "name": "stderr",
     "output_type": "stream",
     "text": [
      " 20%|██████████████████████████████▌                                                                                                                            | 196810/1000000 [00:23<01:33, 8630.58it/s]"
     ]
    },
    {
     "name": "stdout",
     "output_type": "stream",
     "text": [
      "Nc1ccnoc2scc(o1)c2O\n"
     ]
    },
    {
     "name": "stderr",
     "output_type": "stream",
     "text": [
      " 20%|███████████████████████████████▏                                                                                                                           | 201130/1000000 [00:23<01:33, 8564.14it/s]"
     ]
    },
    {
     "name": "stdout",
     "output_type": "stream",
     "text": [
      "c1cc2cc(c[nH]2)[nH]n2ccc1c2\n",
      "c1cnc2nncc3ccc(n1)n32\n"
     ]
    },
    {
     "name": "stderr",
     "output_type": "stream",
     "text": [
      " 21%|███████████████████████████████▊                                                                                                                           | 205405/1000000 [00:24<01:33, 8507.15it/s]"
     ]
    },
    {
     "name": "stdout",
     "output_type": "stream",
     "text": [
      "Cc1c[nH]nc[nH]c2occ1c2C\n"
     ]
    },
    {
     "name": "stderr",
     "output_type": "stream",
     "text": [
      " 22%|█████████████████████████████████▍                                                                                                                         | 215705/1000000 [00:25<01:31, 8589.26it/s]"
     ]
    },
    {
     "name": "stdout",
     "output_type": "stream",
     "text": [
      "Cn1nc2ccoccoc1c2\n"
     ]
    },
    {
     "name": "stderr",
     "output_type": "stream",
     "text": [
      " 22%|██████████████████████████████████▊                                                                                                                        | 224285/1000000 [00:26<01:30, 8533.33it/s]"
     ]
    },
    {
     "name": "stdout",
     "output_type": "stream",
     "text": [
      "Cc1ncc2occc3ccc1n32\n"
     ]
    },
    {
     "name": "stderr",
     "output_type": "stream",
     "text": [
      " 24%|████████████████████████████████████▉                                                                                                                      | 237986/1000000 [00:28<01:30, 8391.89it/s]"
     ]
    },
    {
     "name": "stdout",
     "output_type": "stream",
     "text": [
      "Oc1cc2[nH]nc3cccc(o1)c32\n"
     ]
    },
    {
     "name": "stderr",
     "output_type": "stream",
     "text": [
      " 24%|█████████████████████████████████████▎                                                                                                                     | 240540/1000000 [00:28<01:30, 8416.02it/s]"
     ]
    },
    {
     "name": "stdout",
     "output_type": "stream",
     "text": [
      "OCc1coccc2nc(n[nH]2)o1\n",
      "Cc1cc2ncnc(n2)occo1\n"
     ]
    },
    {
     "name": "stderr",
     "output_type": "stream",
     "text": [
      " 25%|███████████████████████████████████████                                                                                                                    | 251703/1000000 [00:29<01:27, 8574.99it/s]"
     ]
    },
    {
     "name": "stdout",
     "output_type": "stream",
     "text": [
      "Cc1cc2csc(n2)[nH]c(=S)[nH][nH]1\n"
     ]
    },
    {
     "name": "stderr",
     "output_type": "stream",
     "text": [
      " 26%|████████████████████████████████████████                                                                                                                   | 258578/1000000 [00:30<01:26, 8575.75it/s]"
     ]
    },
    {
     "name": "stdout",
     "output_type": "stream",
     "text": [
      "Cc1c(C)c2[nH]c1nc[nH]nco2\n"
     ]
    },
    {
     "name": "stderr",
     "output_type": "stream",
     "text": [
      " 26%|████████████████████████████████████████▉                                                                                                                  | 263742/1000000 [00:31<01:25, 8578.84it/s]"
     ]
    },
    {
     "name": "stdout",
     "output_type": "stream",
     "text": [
      "c1ncncn2ccc(c2)ncn1\n"
     ]
    },
    {
     "name": "stderr",
     "output_type": "stream",
     "text": [
      " 27%|██████████████████████████████████████████                                                                                                                 | 271472/1000000 [00:32<01:24, 8573.08it/s]"
     ]
    },
    {
     "name": "stdout",
     "output_type": "stream",
     "text": [
      "O=c1occccc2cnc(o1)s2\n"
     ]
    },
    {
     "name": "stderr",
     "output_type": "stream",
     "text": [
      " 28%|███████████████████████████████████████████▎                                                                                                               | 279154/1000000 [00:32<01:24, 8516.35it/s]"
     ]
    },
    {
     "name": "stdout",
     "output_type": "stream",
     "text": [
      "c1ccoc2ccc(ccc#1)o2\n"
     ]
    },
    {
     "name": "stderr",
     "output_type": "stream",
     "text": [
      " 30%|██████████████████████████████████████████████▏                                                                                                            | 298037/1000000 [00:35<01:21, 8647.78it/s]"
     ]
    },
    {
     "name": "stdout",
     "output_type": "stream",
     "text": [
      "Nn1ccc2cccc3[nH]nc1c23\n"
     ]
    },
    {
     "name": "stderr",
     "output_type": "stream",
     "text": [
      " 30%|██████████████████████████████████████████████▊                                                                                                            | 302337/1000000 [00:35<01:22, 8468.35it/s]"
     ]
    },
    {
     "name": "stdout",
     "output_type": "stream",
     "text": [
      "O=c1onconc2ccc(o1)=c-2\n"
     ]
    },
    {
     "name": "stderr",
     "output_type": "stream",
     "text": [
      " 30%|███████████████████████████████████████████████▏                                                                                                           | 304050/1000000 [00:35<01:21, 8503.50it/s]"
     ]
    },
    {
     "name": "stdout",
     "output_type": "stream",
     "text": [
      "OCc1nnc[nH]c2cc(co2)[nH]1\n"
     ]
    },
    {
     "name": "stderr",
     "output_type": "stream",
     "text": [
      " 31%|████████████████████████████████████████████████▍                                                                                                          | 312669/1000000 [00:36<01:19, 8606.56it/s]"
     ]
    },
    {
     "name": "stdout",
     "output_type": "stream",
     "text": [
      "Cc1cc2cncc3ncn(o1)c23\n",
      "N=c1[nH]c2c(=O)ccc#ccc1-c=2\n"
     ]
    },
    {
     "name": "stderr",
     "output_type": "stream",
     "text": [
      " 32%|█████████████████████████████████████████████████▊                                                                                                         | 321325/1000000 [00:37<01:18, 8624.96it/s]"
     ]
    },
    {
     "name": "stdout",
     "output_type": "stream",
     "text": [
      "Cc1coccc2nc(N)c(o1)s2\n"
     ]
    },
    {
     "name": "stderr",
     "output_type": "stream",
     "text": [
      " 33%|███████████████████████████████████████████████████▎                                                                                                       | 330732/1000000 [00:38<01:19, 8399.12it/s]"
     ]
    },
    {
     "name": "stdout",
     "output_type": "stream",
     "text": [
      "Oc1coc2ncnc3nsc1c32\n"
     ]
    },
    {
     "name": "stderr",
     "output_type": "stream",
     "text": [
      " 33%|███████████████████████████████████████████████████▊                                                                                                       | 334102/1000000 [00:39<01:19, 8333.35it/s]"
     ]
    },
    {
     "name": "stdout",
     "output_type": "stream",
     "text": [
      "O=c1ccc2ccc(Cl)c(o1)c2Cl\n"
     ]
    },
    {
     "name": "stderr",
     "output_type": "stream",
     "text": [
      " 34%|████████████████████████████████████████████████████▊                                                                                                      | 340955/1000000 [00:40<01:16, 8564.04it/s]"
     ]
    },
    {
     "name": "stdout",
     "output_type": "stream",
     "text": [
      "Cc1c2c#cc#ccn[nH]c1n[nH]2\n",
      "CNc1cc[nH]nc2cc(c1)[nH]o2\n"
     ]
    },
    {
     "name": "stderr",
     "output_type": "stream",
     "text": [
      " 35%|██████████████████████████████████████████████████████                                                                                                     | 348669/1000000 [00:41<01:17, 8439.30it/s]"
     ]
    },
    {
     "name": "stdout",
     "output_type": "stream",
     "text": [
      "Cn1cnc2cc(Cl)c([nH]2)ocn1\n",
      "O=c1c2c#cccoccn1sc2\n"
     ]
    },
    {
     "name": "stderr",
     "output_type": "stream",
     "text": [
      " 36%|████████████████████████████████████████████████████████▌                                                                                                  | 364896/1000000 [00:43<01:15, 8403.34it/s]"
     ]
    },
    {
     "name": "stdout",
     "output_type": "stream",
     "text": [
      "Cc1nncn(C)oc2cnc1o2\n",
      "N=c1[nH]ccc2ccc(cn2)o[nH]1\n"
     ]
    },
    {
     "name": "stderr",
     "output_type": "stream",
     "text": [
      " 37%|█████████████████████████████████████████████████████████▏                                                                                                 | 369098/1000000 [00:43<01:17, 8127.04it/s]"
     ]
    },
    {
     "name": "stdout",
     "output_type": "stream",
     "text": [
      "Cc1c(=N)n2[nH]cnccoc1s2\n",
      "Oc1cc2[nH]c1c#ccccco2\n",
      "O=c1cc2occcnnc([nH]1)-n-2\n"
     ]
    },
    {
     "name": "stderr",
     "output_type": "stream",
     "text": [
      " 38%|███████████████████████████████████████████████████████████▎                                                                                               | 382845/1000000 [00:45<01:11, 8595.45it/s]"
     ]
    },
    {
     "name": "stdout",
     "output_type": "stream",
     "text": [
      "Cc1cccoc2cc(cc1)[nH]n2\n"
     ]
    },
    {
     "name": "stderr",
     "output_type": "stream",
     "text": [
      " 39%|████████████████████████████████████████████████████████████▏                                                                                              | 388002/1000000 [00:45<01:11, 8560.03it/s]"
     ]
    },
    {
     "name": "stdout",
     "output_type": "stream",
     "text": [
      "N=c1ccccc2csc(n[nH]1)-s-2\n"
     ]
    },
    {
     "name": "stderr",
     "output_type": "stream",
     "text": [
      " 40%|██████████████████████████████████████████████████████████████▎                                                                                            | 401762/1000000 [00:47<01:10, 8433.64it/s]"
     ]
    },
    {
     "name": "stdout",
     "output_type": "stream",
     "text": [
      "c1sc2ncn3cc(oc1n2)CC3\n",
      "Cc1cc2ncncn(C)oc1o2\n"
     ]
    },
    {
     "name": "stderr",
     "output_type": "stream",
     "text": [
      " 42%|█████████████████████████████████████████████████████████████████                                                                                          | 419832/1000000 [00:49<01:07, 8557.44it/s]"
     ]
    },
    {
     "name": "stdout",
     "output_type": "stream",
     "text": [
      "Nc1ccc2ccoc3[nH]nc1c23\n",
      "CCNc1noc2oc1c(Cl)c2O\n"
     ]
    },
    {
     "name": "stderr",
     "output_type": "stream",
     "text": [
      " 43%|██████████████████████████████████████████████████████████████████▏                                                                                        | 426720/1000000 [00:50<01:07, 8520.97it/s]"
     ]
    },
    {
     "name": "stdout",
     "output_type": "stream",
     "text": [
      "Cc1cccnnc2[nH]nc(c1)-n-2\n"
     ]
    },
    {
     "name": "stderr",
     "output_type": "stream",
     "text": [
      " 43%|██████████████████████████████████████████████████████████████████▌                                                                                        | 429290/1000000 [00:50<01:06, 8550.70it/s]"
     ]
    },
    {
     "name": "stdout",
     "output_type": "stream",
     "text": [
      "C=Cn1cc2ccnc[nH]nc1-n-2\n"
     ]
    },
    {
     "name": "stderr",
     "output_type": "stream",
     "text": [
      " 44%|████████████████████████████████████████████████████████████████████▉                                                                                      | 444881/1000000 [00:52<01:04, 8634.27it/s]"
     ]
    },
    {
     "name": "stdout",
     "output_type": "stream",
     "text": [
      "c1cc2nc(c1)ocnnc[nH]2\n"
     ]
    },
    {
     "name": "stderr",
     "output_type": "stream",
     "text": [
      " 47%|████████████████████████████████████████████████████████████████████████▎                                                                                  | 466384/1000000 [00:54<01:03, 8424.55it/s]"
     ]
    },
    {
     "name": "stdout",
     "output_type": "stream",
     "text": [
      "O=c1ccccoc2cn(nn2)[nH]1\n"
     ]
    },
    {
     "name": "stderr",
     "output_type": "stream",
     "text": [
      " 49%|████████████████████████████████████████████████████████████████████████████▏                                                                              | 491379/1000000 [00:57<00:59, 8591.58it/s]"
     ]
    },
    {
     "name": "stdout",
     "output_type": "stream",
     "text": [
      "C#Cc1c2cc[nH]ncoc1n[nH]2\n"
     ]
    },
    {
     "name": "stderr",
     "output_type": "stream",
     "text": [
      " 51%|███████████████████████████████████████████████████████████████████████████████▏                                                                           | 511022/1000000 [01:00<00:59, 8268.43it/s]"
     ]
    },
    {
     "name": "stdout",
     "output_type": "stream",
     "text": [
      "c1cc2nnn(n2)c2csc(c2)o1\n"
     ]
    },
    {
     "name": "stderr",
     "output_type": "stream",
     "text": [
      " 52%|████████████████████████████████████████████████████████████████████████████████                                                                           | 516146/1000000 [01:00<00:56, 8516.50it/s]"
     ]
    },
    {
     "name": "stdout",
     "output_type": "stream",
     "text": [
      "Cn1cnc2csc(nc[nH]1)c2Cl\n"
     ]
    },
    {
     "name": "stderr",
     "output_type": "stream",
     "text": [
      " 52%|████████████████████████████████████████████████████████████████████████████████▉                                                                          | 522232/1000000 [01:01<00:55, 8670.62it/s]"
     ]
    },
    {
     "name": "stdout",
     "output_type": "stream",
     "text": [
      "CN=c1[nH]ccc2[nH]c1c(O)c2O\n"
     ]
    },
    {
     "name": "stderr",
     "output_type": "stream",
     "text": [
      " 54%|███████████████████████████████████████████████████████████████████████████████████                                                                        | 535946/1000000 [01:03<00:55, 8417.03it/s]"
     ]
    },
    {
     "name": "stdout",
     "output_type": "stream",
     "text": [
      "S=c1[nH]ccccc2nccn1-n-2\n"
     ]
    },
    {
     "name": "stderr",
     "output_type": "stream",
     "text": [
      " 56%|███████████████████████████████████████████████████████████████████████████████████████                                                                    | 561452/1000000 [01:06<00:52, 8355.64it/s]"
     ]
    },
    {
     "name": "stdout",
     "output_type": "stream",
     "text": [
      "Cc1nc2ccoc3nccc1n23\n",
      "c1nc2ccc([nH]2)c2cc(co2)[nH]1\n"
     ]
    },
    {
     "name": "stderr",
     "output_type": "stream",
     "text": [
      " 57%|███████████████████████████████████████████████████████████████████████████████████████▋                                                                   | 565748/1000000 [01:06<00:51, 8359.26it/s]"
     ]
    },
    {
     "name": "stdout",
     "output_type": "stream",
     "text": [
      "Oc1c2cnnc1occcno2\n"
     ]
    },
    {
     "name": "stderr",
     "output_type": "stream",
     "text": [
      " 58%|█████████████████████████████████████████████████████████████████████████████████████████▍                                                                 | 576719/1000000 [01:08<00:52, 8001.14it/s]"
     ]
    },
    {
     "name": "stdout",
     "output_type": "stream",
     "text": [
      "Cc1c#cccc2n[nH]c(c1)no2\n"
     ]
    },
    {
     "name": "stderr",
     "output_type": "stream",
     "text": [
      " 61%|█████████████████████████████████████████████████████████████████████████████████████████████▉                                                             | 605744/1000000 [01:11<00:47, 8228.47it/s]"
     ]
    },
    {
     "name": "stdout",
     "output_type": "stream",
     "text": [
      "CCc1n[nH]cnnc2occ1-o-2\n"
     ]
    },
    {
     "name": "stderr",
     "output_type": "stream",
     "text": [
      " 61%|██████████████████████████████████████████████████████████████████████████████████████████████▊                                                            | 611695/1000000 [01:12<00:46, 8362.77it/s]"
     ]
    },
    {
     "name": "stdout",
     "output_type": "stream",
     "text": [
      "Cc1nncon2ccc(o1)c2O\n"
     ]
    },
    {
     "name": "stderr",
     "output_type": "stream",
     "text": [
      " 62%|███████████████████████████████████████████████████████████████████████████████████████████████▎                                                           | 615123/1000000 [01:12<00:45, 8433.63it/s]"
     ]
    },
    {
     "name": "stdout",
     "output_type": "stream",
     "text": [
      "Cn1cccnnc2n(O)cc1-o-2\n"
     ]
    },
    {
     "name": "stderr",
     "output_type": "stream",
     "text": [
      " 65%|█████████████████████████████████████████████████████████████████████████████████████████████████████▍                                                     | 654701/1000000 [01:17<00:39, 8720.22it/s]"
     ]
    },
    {
     "name": "stdout",
     "output_type": "stream",
     "text": [
      "Cc1nnc2cc(cno1)nco2\n"
     ]
    },
    {
     "name": "stderr",
     "output_type": "stream",
     "text": [
      " 66%|██████████████████████████████████████████████████████████████████████████████████████████████████████▌                                                    | 661675/1000000 [01:18<00:38, 8703.51it/s]"
     ]
    },
    {
     "name": "stdout",
     "output_type": "stream",
     "text": [
      "Cc1ccc2cc(n[nH]2)n(C)[nH]c1\n"
     ]
    },
    {
     "name": "stderr",
     "output_type": "stream",
     "text": [
      " 67%|███████████████████████████████████████████████████████████████████████████████████████████████████████▏                                                   | 666017/1000000 [01:18<00:38, 8665.77it/s]"
     ]
    },
    {
     "name": "stdout",
     "output_type": "stream",
     "text": [
      "Clc1c2c#ccccnoc1sn2\n",
      "Clc1cc2cnc1[nH]cncc[nH]2\n"
     ]
    },
    {
     "name": "stderr",
     "output_type": "stream",
     "text": [
      " 67%|███████████████████████████████████████████████████████████████████████████████████████████████████████▉                                                   | 670374/1000000 [01:19<00:38, 8649.50it/s]"
     ]
    },
    {
     "name": "stdout",
     "output_type": "stream",
     "text": [
      "Cc1coccoc2cc1n(O)n2\n"
     ]
    },
    {
     "name": "stderr",
     "output_type": "stream",
     "text": [
      " 68%|█████████████████████████████████████████████████████████████████████████████████████████████████████████▎                                                 | 679783/1000000 [01:20<00:37, 8508.96it/s]"
     ]
    },
    {
     "name": "stdout",
     "output_type": "stream",
     "text": [
      "CCc1nnc2scc(cno1)-s-2\n"
     ]
    },
    {
     "name": "stderr",
     "output_type": "stream",
     "text": [
      " 68%|█████████████████████████████████████████████████████████████████████████████████████████████████████████▊                                                 | 682314/1000000 [01:20<00:38, 8285.87it/s]"
     ]
    },
    {
     "name": "stdout",
     "output_type": "stream",
     "text": [
      "c1cc2nc(cs2)c2cnn(n2)o1\n"
     ]
    },
    {
     "name": "stderr",
     "output_type": "stream",
     "text": [
      " 70%|███████████████████████████████████████████████████████████████████████████████████████████████████████████▊                                               | 695872/1000000 [01:22<00:36, 8350.77it/s]"
     ]
    },
    {
     "name": "stdout",
     "output_type": "stream",
     "text": [
      "O=c1oc2ccc1[nH]cnnc[nH]2\n"
     ]
    },
    {
     "name": "stderr",
     "output_type": "stream",
     "text": [
      " 70%|█████████████████████████████████████████████████████████████████████████████████████████████████████████████▏                                             | 704355/1000000 [01:23<00:35, 8431.81it/s]"
     ]
    },
    {
     "name": "stdout",
     "output_type": "stream",
     "text": [
      "Cc1c[nH]c2coc(c2)o[nH]c1=O\n"
     ]
    },
    {
     "name": "stderr",
     "output_type": "stream",
     "text": [
      " 72%|███████████████████████████████████████████████████████████████████████████████████████████████████████████████▊                                           | 721334/1000000 [01:25<00:33, 8426.35it/s]"
     ]
    },
    {
     "name": "stdout",
     "output_type": "stream",
     "text": [
      "NCc1sc2cnnc[nH]oc1c2\n"
     ]
    },
    {
     "name": "stderr",
     "output_type": "stream",
     "text": [
      " 73%|████████████████████████████████████████████████████████████████████████████████████████████████████████████████▊                                          | 728180/1000000 [01:25<00:31, 8537.70it/s]"
     ]
    },
    {
     "name": "stdout",
     "output_type": "stream",
     "text": [
      "Nc1cc2[nH]ncc3ccnn1c32\n"
     ]
    },
    {
     "name": "stderr",
     "output_type": "stream",
     "text": [
      " 73%|█████████████████████████████████████████████████████████████████████████████████████████████████████████████████▉                                         | 734974/1000000 [01:26<00:31, 8401.45it/s]"
     ]
    },
    {
     "name": "stdout",
     "output_type": "stream",
     "text": [
      "Cc1oc2cc1o[nH]c(=N)cc[nH]2\n",
      "Cn1c2ncoc1ccccnn2\n"
     ]
    },
    {
     "name": "stderr",
     "output_type": "stream",
     "text": [
      " 75%|███████████████████████████████████████████████████████████████████████████████████████████████████████████████████▊                                       | 746881/1000000 [01:28<00:29, 8454.47it/s]"
     ]
    },
    {
     "name": "stdout",
     "output_type": "stream",
     "text": [
      "c1cc2csc(c2)c2cnn(n2)o1\n"
     ]
    },
    {
     "name": "stderr",
     "output_type": "stream",
     "text": [
      " 75%|████████████████████████████████████████████████████████████████████████████████████████████████████████████████████▋                                      | 752839/1000000 [01:28<00:29, 8502.39it/s]"
     ]
    },
    {
     "name": "stdout",
     "output_type": "stream",
     "text": [
      "N=c1[nH]nc2ccc3cccn1-n32\n"
     ]
    },
    {
     "name": "stderr",
     "output_type": "stream",
     "text": [
      " 76%|██████████████████████████████████████████████████████████████████████████████████████████████████████████████████████                                     | 761406/1000000 [01:29<00:27, 8538.03it/s]"
     ]
    },
    {
     "name": "stdout",
     "output_type": "stream",
     "text": [
      "Cc1c2nnccc[nH]n(c1C)-o-2\n"
     ]
    },
    {
     "name": "stderr",
     "output_type": "stream",
     "text": [
      " 76%|██████████████████████████████████████████████████████████████████████████████████████████████████████████████████████▎                                    | 763123/1000000 [01:30<00:27, 8531.13it/s]"
     ]
    },
    {
     "name": "stdout",
     "output_type": "stream",
     "text": [
      "N=c1ccccoc2cc([nH]1)sn2\n"
     ]
    },
    {
     "name": "stderr",
     "output_type": "stream",
     "text": [
      " 77%|███████████████████████████████████████████████████████████████████████████████████████████████████████████████████████▎                                   | 769974/1000000 [01:30<00:26, 8544.08it/s]"
     ]
    },
    {
     "name": "stdout",
     "output_type": "stream",
     "text": [
      "Cc1con2nc(cco1)sc2=O\n"
     ]
    },
    {
     "name": "stderr",
     "output_type": "stream",
     "text": [
      " 77%|███████████████████████████████████████████████████████████████████████████████████████████████████████████████████████▌                                   | 771693/1000000 [01:31<00:26, 8571.60it/s]"
     ]
    },
    {
     "name": "stdout",
     "output_type": "stream",
     "text": [
      "Cc1cnc[nH]c2cc(ncn2)o1\n"
     ]
    },
    {
     "name": "stderr",
     "output_type": "stream",
     "text": [
      " 79%|██████████████████████████████████████████████████████████████████████████████████████████████████████████████████████████▎                                | 788799/1000000 [01:33<00:24, 8471.22it/s]"
     ]
    },
    {
     "name": "stdout",
     "output_type": "stream",
     "text": [
      "On1c2cccnc[nH]nc1cc2\n"
     ]
    },
    {
     "name": "stderr",
     "output_type": "stream",
     "text": [
      " 79%|██████████████████████████████████████████████████████████████████████████████████████████████████████████████████████████▋                                | 791352/1000000 [01:33<00:24, 8410.41it/s]"
     ]
    },
    {
     "name": "stdout",
     "output_type": "stream",
     "text": [
      "Oc1oc2ccccoccc1c2\n"
     ]
    },
    {
     "name": "stderr",
     "output_type": "stream",
     "text": [
      " 79%|███████████████████████████████████████████████████████████████████████████████████████████████████████████████████████████                                | 793900/1000000 [01:33<00:24, 8408.37it/s]"
     ]
    },
    {
     "name": "stdout",
     "output_type": "stream",
     "text": [
      "Cc1nc2onc3cnnc(o1)c32\n"
     ]
    },
    {
     "name": "stderr",
     "output_type": "stream",
     "text": [
      " 81%|█████████████████████████████████████████████████████████████████████████████████████████████████████████████████████████████▎                             | 808417/1000000 [01:35<00:22, 8486.54it/s]"
     ]
    },
    {
     "name": "stdout",
     "output_type": "stream",
     "text": [
      "N=c1[nH]ccoc2cc(ns2)o1\n",
      "Cc1con2cnc(cco1)c2\n"
     ]
    },
    {
     "name": "stderr",
     "output_type": "stream",
     "text": [
      " 81%|██████████████████████████████████████████████████████████████████████████████████████████████████████████████████████████████                             | 813535/1000000 [01:36<00:22, 8418.95it/s]"
     ]
    },
    {
     "name": "stdout",
     "output_type": "stream",
     "text": [
      "Oc1cc2ccoccc#cc1s2\n"
     ]
    },
    {
     "name": "stderr",
     "output_type": "stream",
     "text": [
      " 83%|█████████████████████████████████████████████████████████████████████████████████████████████████████████████████████████████████▏                         | 833088/1000000 [01:38<00:20, 8230.22it/s]"
     ]
    },
    {
     "name": "stdout",
     "output_type": "stream",
     "text": [
      "O=c1[nH]cc2[nH]cc3occc1c23\n"
     ]
    },
    {
     "name": "stderr",
     "output_type": "stream",
     "text": [
      " 85%|███████████████████████████████████████████████████████████████████████████████████████████████████████████████████████████████████▌                       | 848403/1000000 [01:40<00:17, 8542.33it/s]"
     ]
    },
    {
     "name": "stdout",
     "output_type": "stream",
     "text": [
      "N=c1ccccn2cnc(c2)o[nH]1\n"
     ]
    },
    {
     "name": "stderr",
     "output_type": "stream",
     "text": [
      " 85%|████████████████████████████████████████████████████████████████████████████████████████████████████████████████████████████████████                       | 851818/1000000 [01:40<00:17, 8384.78it/s]"
     ]
    },
    {
     "name": "stdout",
     "output_type": "stream",
     "text": [
      "c1oc2cnn3ccc(n3)[nH]c1c2\n"
     ]
    },
    {
     "name": "stderr",
     "output_type": "stream",
     "text": [
      " 86%|█████████████████████████████████████████████████████████████████████████████████████████████████████████████████████████████████████▎                     | 860382/1000000 [01:41<00:16, 8560.71it/s]"
     ]
    },
    {
     "name": "stdout",
     "output_type": "stream",
     "text": [
      "c1cnnc2[nH]cc3c2cnc-3c1\n",
      "N=c1-c2c#cccccn-1c(=N)n2\n",
      "O=c1[nH]c2ccc(cc[nH]o1)nn2\n"
     ]
    },
    {
     "name": "stderr",
     "output_type": "stream",
     "text": [
      " 87%|██████████████████████████████████████████████████████████████████████████████████████████████████████████████████████████████████████▉                    | 870607/1000000 [01:42<00:15, 8476.02it/s]"
     ]
    },
    {
     "name": "stdout",
     "output_type": "stream",
     "text": [
      "Cc1c2c#cc#cccon1nn2\n"
     ]
    },
    {
     "name": "stderr",
     "output_type": "stream",
     "text": [
      " 88%|████████████████████████████████████████████████████████████████████████████████████████████████████████████████████████████████████████▊                  | 882559/1000000 [01:44<00:13, 8507.88it/s]"
     ]
    },
    {
     "name": "stdout",
     "output_type": "stream",
     "text": [
      "O=c1cc2[nH]cnc3snc(o1)c23\n"
     ]
    },
    {
     "name": "stderr",
     "output_type": "stream",
     "text": [
      " 89%|█████████████████████████████████████████████████████████████████████████████████████████████████████████████████████████████████████████▌                 | 887714/1000000 [01:44<00:13, 8571.70it/s]"
     ]
    },
    {
     "name": "stdout",
     "output_type": "stream",
     "text": [
      "Clc1coc2nccc3c[nH]c1c32\n"
     ]
    },
    {
     "name": "stderr",
     "output_type": "stream",
     "text": [
      " 90%|███████████████████████████████████████████████████████████████████████████████████████████████████████████████████████████████████████████▏               | 898026/1000000 [01:46<00:12, 8397.59it/s]"
     ]
    },
    {
     "name": "stdout",
     "output_type": "stream",
     "text": [
      "Cc1ccnnc2occ([nH]1)-n-2C\n"
     ]
    },
    {
     "name": "stderr",
     "output_type": "stream",
     "text": [
      " 90%|███████████████████████████████████████████████████████████████████████████████████████████████████████████████████████████████████████████▌               | 900575/1000000 [01:46<00:11, 8305.42it/s]"
     ]
    },
    {
     "name": "stdout",
     "output_type": "stream",
     "text": [
      "Cc1nnc[nH]c2cc([nH]1)[nH]c2C\n"
     ]
    },
    {
     "name": "stderr",
     "output_type": "stream",
     "text": [
      " 91%|████████████████████████████████████████████████████████████████████████████████████████████████████████████████████████████████████████████▉              | 909074/1000000 [01:47<00:11, 8056.64it/s]"
     ]
    },
    {
     "name": "stdout",
     "output_type": "stream",
     "text": [
      "Cc1nc2cc(Cl)c(cco[nH]1)o2\n"
     ]
    },
    {
     "name": "stderr",
     "output_type": "stream",
     "text": [
      " 93%|███████████████████████████████████████████████████████████████████████████████████████████████████████████████████████████████████████████████▋           | 926973/1000000 [01:49<00:08, 8214.64it/s]"
     ]
    },
    {
     "name": "stdout",
     "output_type": "stream",
     "text": [
      "Cc1noc2oc1c1[nH]cc(O)c21\n"
     ]
    },
    {
     "name": "stderr",
     "output_type": "stream",
     "text": [
      " 93%|████████████████████████████████████████████████████████████████████████████████████████████████████████████████████████████████████████████████           | 929547/1000000 [01:49<00:08, 8450.02it/s]"
     ]
    },
    {
     "name": "stdout",
     "output_type": "stream",
     "text": [
      "O=c1c#cc2c[nH]c(n2)onc[nH]1\n",
      "Nc1cc2ncoc3n[nH]c(c1)c23\n"
     ]
    },
    {
     "name": "stderr",
     "output_type": "stream",
     "text": [
      " 93%|████████████████████████████████████████████████████████████████████████████████████████████████████████████████████████████████████████████████▎          | 931227/1000000 [01:50<00:08, 8240.73it/s]"
     ]
    },
    {
     "name": "stdout",
     "output_type": "stream",
     "text": [
      "C=Cc1cnnc2snc(oc1)-n-2\n"
     ]
    },
    {
     "name": "stderr",
     "output_type": "stream",
     "text": [
      " 95%|██████████████████████████████████████████████████████████████████████████████████████████████████████████████████████████████████████████████████▋        | 946652/1000000 [01:51<00:06, 8545.91it/s]"
     ]
    },
    {
     "name": "stdout",
     "output_type": "stream",
     "text": [
      "On1c2ccnc[nH]ncc1cc2\n"
     ]
    },
    {
     "name": "stderr",
     "output_type": "stream",
     "text": [
      " 95%|███████████████████████████████████████████████████████████████████████████████████████████████████████████████████████████████████████████████████▍       | 950958/1000000 [01:52<00:05, 8569.09it/s]"
     ]
    },
    {
     "name": "stdout",
     "output_type": "stream",
     "text": [
      "On1cnc2scc3ncnc1c32\n"
     ]
    },
    {
     "name": "stderr",
     "output_type": "stream",
     "text": [
      " 99%|█████████████████████████████████████████████████████████████████████████████████████████████████████████████████████████████████████████████████████████▏ | 988518/1000000 [01:56<00:01, 8485.57it/s]"
     ]
    },
    {
     "name": "stdout",
     "output_type": "stream",
     "text": [
      "Cc1c(N)c2nc[nH]ccoc1[nH]2\n"
     ]
    },
    {
     "name": "stderr",
     "output_type": "stream",
     "text": [
      " 99%|██████████████████████████████████████████████████████████████████████████████████████████████████████████████████████████████████████████████████████████▏| 994470/1000000 [01:57<00:00, 8370.61it/s]"
     ]
    },
    {
     "name": "stdout",
     "output_type": "stream",
     "text": [
      "Nc1coc2nccc3csc1c32\n"
     ]
    },
    {
     "name": "stderr",
     "output_type": "stream",
     "text": [
      "100%|██████████████████████████████████████████████████████████████████████████████████████████████████████████████████████████████████████████████████████████▉| 999557/1000000 [01:58<00:00, 8382.94it/s]"
     ]
    },
    {
     "name": "stdout",
     "output_type": "stream",
     "text": [
      "N=Cn1cnncoc2coc1c2\n"
     ]
    },
    {
     "name": "stderr",
     "output_type": "stream",
     "text": [
      "100%|██████████████████████████████████████████████████████████████████████████████████████████████████████████████████████████████████████████████████████████| 1000000/1000000 [01:58<00:00, 8461.33it/s]\n",
      "  1%|█▊                                                                                                                                                          | 11992/1000000 [00:01<01:57, 8377.24it/s]"
     ]
    },
    {
     "name": "stdout",
     "output_type": "stream",
     "text": [
      "Cc1oc2onc[nH]ncc1c2Cl\n"
     ]
    },
    {
     "name": "stderr",
     "output_type": "stream",
     "text": [
      "  6%|█████████▋                                                                                                                                                  | 62261/1000000 [00:07<01:49, 8554.56it/s]"
     ]
    },
    {
     "name": "stdout",
     "output_type": "stream",
     "text": [
      "O=c1[nH]c2ccn3nccc(o1)c23\n"
     ]
    },
    {
     "name": "stderr",
     "output_type": "stream",
     "text": [
      "  6%|██████████                                                                                                                                                  | 64826/1000000 [00:07<01:49, 8504.16it/s]"
     ]
    },
    {
     "name": "stdout",
     "output_type": "stream",
     "text": [
      "Cn1oc2ccc(O)c(c2Cl)c1=N\n"
     ]
    },
    {
     "name": "stderr",
     "output_type": "stream",
     "text": [
      "  8%|████████████▉                                                                                                                                               | 82800/1000000 [00:09<01:47, 8539.55it/s]"
     ]
    },
    {
     "name": "stdout",
     "output_type": "stream",
     "text": [
      "O=c1[nH]c2ccc(O)c(O)c1cc2\n"
     ]
    },
    {
     "name": "stderr",
     "output_type": "stream",
     "text": [
      "  9%|█████████████▊                                                                                                                                              | 88801/1000000 [00:10<01:46, 8570.27it/s]"
     ]
    },
    {
     "name": "stdout",
     "output_type": "stream",
     "text": [
      "Nc1ccccc2nnc(c1)o[nH]2\n"
     ]
    },
    {
     "name": "stderr",
     "output_type": "stream",
     "text": [
      "  9%|██████████████▋                                                                                                                                             | 93907/1000000 [00:11<01:47, 8440.65it/s]"
     ]
    },
    {
     "name": "stdout",
     "output_type": "stream",
     "text": [
      "Cc1c2nncoccn(c1O)-s-2\n"
     ]
    },
    {
     "name": "stderr",
     "output_type": "stream",
     "text": [
      " 10%|███████████████▉                                                                                                                                           | 102432/1000000 [00:12<01:45, 8518.83it/s]"
     ]
    },
    {
     "name": "stdout",
     "output_type": "stream",
     "text": [
      "Cc1noc2sc(cno1)cc2Cl\n",
      "Nc1c2occoccn1[nH]c2=O\n"
     ]
    },
    {
     "name": "stderr",
     "output_type": "stream",
     "text": [
      " 11%|████████████████▌                                                                                                                                          | 106706/1000000 [00:12<01:45, 8499.19it/s]"
     ]
    },
    {
     "name": "stdout",
     "output_type": "stream",
     "text": [
      "O=c1occ2ocnc3[nH]nc1c32\n"
     ]
    },
    {
     "name": "stderr",
     "output_type": "stream",
     "text": [
      " 11%|█████████████████▏                                                                                                                                         | 111007/1000000 [00:13<01:43, 8574.18it/s]"
     ]
    },
    {
     "name": "stdout",
     "output_type": "stream",
     "text": [
      "Cc1cc(O)c(O)c2oc1cc2O\n"
     ]
    },
    {
     "name": "stderr",
     "output_type": "stream",
     "text": [
      " 14%|█████████████████████▏                                                                                                                                     | 136707/1000000 [00:16<01:43, 8367.86it/s]"
     ]
    },
    {
     "name": "stdout",
     "output_type": "stream",
     "text": [
      "Cc1coccc2nsc(n2)o1\n",
      "Clc1ccn2ncc3occc1c32\n"
     ]
    },
    {
     "name": "stderr",
     "output_type": "stream",
     "text": [
      " 14%|█████████████████████▍                                                                                                                                     | 138414/1000000 [00:16<01:41, 8452.32it/s]"
     ]
    },
    {
     "name": "stdout",
     "output_type": "stream",
     "text": [
      "c1oc2nc(c[nH]2)cc2oc1CC2\n"
     ]
    },
    {
     "name": "stderr",
     "output_type": "stream",
     "text": [
      " 17%|██████████████████████████▎                                                                                                                                | 170128/1000000 [00:20<01:38, 8434.72it/s]"
     ]
    },
    {
     "name": "stdout",
     "output_type": "stream",
     "text": [
      "Cc1cc2cnnc3ccc(o1)n23\n",
      "Cc1sc2cc[nH]oc(=N)[nH]c1n2\n"
     ]
    },
    {
     "name": "stderr",
     "output_type": "stream",
     "text": [
      " 17%|███████████████████████████                                                                                                                                | 174372/1000000 [00:20<01:37, 8480.89it/s]"
     ]
    },
    {
     "name": "stdout",
     "output_type": "stream",
     "text": [
      "Cc1ccc(O)c2cc(c[nH]2)[nH][nH]1\n",
      "Cc1cc2nc(O)c(o1)c(Cl)c2O\n"
     ]
    },
    {
     "name": "stderr",
     "output_type": "stream",
     "text": [
      " 19%|█████████████████████████████                                                                                                                              | 187237/1000000 [00:22<01:34, 8596.84it/s]"
     ]
    },
    {
     "name": "stdout",
     "output_type": "stream",
     "text": [
      "On1ccc2scc3cnnc1c32\n"
     ]
    },
    {
     "name": "stderr",
     "output_type": "stream",
     "text": [
      " 19%|█████████████████████████████▋                                                                                                                             | 191527/1000000 [00:22<01:34, 8559.92it/s]"
     ]
    },
    {
     "name": "stdout",
     "output_type": "stream",
     "text": [
      "Cc1nc2ocnn(C)cnc1o2\n"
     ]
    },
    {
     "name": "stderr",
     "output_type": "stream",
     "text": [
      " 20%|██████████████████████████████▍                                                                                                                            | 196580/1000000 [00:23<01:37, 8206.30it/s]"
     ]
    },
    {
     "name": "stdout",
     "output_type": "stream",
     "text": [
      "ON=c1ccoc2cc(cs2)[nH][nH]1\n",
      "Cc1cc2[nH]ncoccnc1-n=2\n"
     ]
    },
    {
     "name": "stderr",
     "output_type": "stream",
     "text": [
      " 20%|██████████████████████████████▉                                                                                                                            | 199998/1000000 [00:23<01:36, 8284.86it/s]"
     ]
    },
    {
     "name": "stdout",
     "output_type": "stream",
     "text": [
      "Cc1c2coc1oc(=O)[nH][nH]cn2\n",
      "c1ccn2ncc3c(oc1)scc32\n",
      "O=c1[nH][nH]cnccc2ccc1s2\n"
     ]
    },
    {
     "name": "stderr",
     "output_type": "stream",
     "text": [
      " 22%|█████████████████████████████████▊                                                                                                                         | 218003/1000000 [00:25<01:34, 8311.86it/s]"
     ]
    },
    {
     "name": "stdout",
     "output_type": "stream",
     "text": [
      "COc1cccc2sc1c(Cl)c2O\n"
     ]
    },
    {
     "name": "stderr",
     "output_type": "stream",
     "text": [
      " 22%|██████████████████████████████████▊                                                                                                                        | 224841/1000000 [00:26<01:34, 8244.47it/s]"
     ]
    },
    {
     "name": "stdout",
     "output_type": "stream",
     "text": [
      "O=c1cc2ccnc[nH]ncn1o2\n",
      "Oc1ncc2coc3ncoc1c23\n"
     ]
    },
    {
     "name": "stderr",
     "output_type": "stream",
     "text": [
      " 24%|█████████████████████████████████████▏                                                                                                                     | 240108/1000000 [00:28<01:31, 8294.48it/s]"
     ]
    },
    {
     "name": "stdout",
     "output_type": "stream",
     "text": [
      "Cc1cn(C)cnc2nc(c[nH]2)o1\n"
     ]
    },
    {
     "name": "stderr",
     "output_type": "stream",
     "text": [
      " 29%|████████████████████████████████████████████▎                                                                                                              | 285686/1000000 [00:33<01:25, 8361.56it/s]"
     ]
    },
    {
     "name": "stdout",
     "output_type": "stream",
     "text": [
      "Cc1nncoc2occ(o1)c2O\n"
     ]
    },
    {
     "name": "stderr",
     "output_type": "stream",
     "text": [
      " 30%|██████████████████████████████████████████████▍                                                                                                            | 299281/1000000 [00:35<01:22, 8453.56it/s]"
     ]
    },
    {
     "name": "stdout",
     "output_type": "stream",
     "text": [
      "O=Cc1sc2cc1occcco2\n",
      "Cc1cc(=N)[nH]oc2ccc([nH]2)o1\n"
     ]
    },
    {
     "name": "stderr",
     "output_type": "stream",
     "text": [
      " 32%|█████████████████████████████████████████████████▌                                                                                                         | 319710/1000000 [00:37<01:21, 8352.74it/s]"
     ]
    },
    {
     "name": "stdout",
     "output_type": "stream",
     "text": [
      "Cc1ccccn[nH]c2cc1[nH]n2\n"
     ]
    },
    {
     "name": "stderr",
     "output_type": "stream",
     "text": [
      " 33%|██████████████████████████████████████████████████▊                                                                                                        | 327421/1000000 [00:38<01:19, 8440.92it/s]"
     ]
    },
    {
     "name": "stdout",
     "output_type": "stream",
     "text": [
      "Clc1c2coc1[nH]cnnco2\n"
     ]
    },
    {
     "name": "stderr",
     "output_type": "stream",
     "text": [
      " 34%|███████████████████████████████████████████████████▉                                                                                                       | 335144/1000000 [00:39<01:18, 8521.00it/s]"
     ]
    },
    {
     "name": "stdout",
     "output_type": "stream",
     "text": [
      "Cc1coc2ncn(nc[nH]1)c2O\n"
     ]
    },
    {
     "name": "stderr",
     "output_type": "stream",
     "text": [
      " 34%|████████████████████████████████████████████████████▍                                                                                                      | 338540/1000000 [00:40<01:22, 8010.16it/s]"
     ]
    },
    {
     "name": "stdout",
     "output_type": "stream",
     "text": [
      "Oc1ncn2ccc3nc[nH]c1c32\n"
     ]
    },
    {
     "name": "stderr",
     "output_type": "stream",
     "text": [
      " 35%|█████████████████████████████████████████████████████▊                                                                                                     | 347061/1000000 [00:41<01:19, 8229.96it/s]"
     ]
    },
    {
     "name": "stdout",
     "output_type": "stream",
     "text": [
      "c1cc2ncnc3ccoc(c1)c23\n"
     ]
    },
    {
     "name": "stderr",
     "output_type": "stream",
     "text": [
      " 36%|███████████████████████████████████████████████████████▊                                                                                                   | 359866/1000000 [00:42<01:17, 8308.90it/s]"
     ]
    },
    {
     "name": "stdout",
     "output_type": "stream",
     "text": [
      "NN=c1ccc#cc2cnc(n1)-c=2\n",
      "Cc1cc2cc[nH]oc(=O)[nH]c1[nH]2\n"
     ]
    },
    {
     "name": "stderr",
     "output_type": "stream",
     "text": [
      " 37%|█████████████████████████████████████████████████████████▍                                                                                                 | 370176/1000000 [00:43<01:13, 8626.39it/s]"
     ]
    },
    {
     "name": "stdout",
     "output_type": "stream",
     "text": [
      "c1c2cnc([nH]c3ncc(c#1)o3)o2\n"
     ]
    },
    {
     "name": "stderr",
     "output_type": "stream",
     "text": [
      " 37%|█████████████████████████████████████████████████████████▉                                                                                                 | 373589/1000000 [00:44<01:16, 8233.23it/s]"
     ]
    },
    {
     "name": "stdout",
     "output_type": "stream",
     "text": [
      "N=Cn1ccccc2cc(no2)o1\n"
     ]
    },
    {
     "name": "stderr",
     "output_type": "stream",
     "text": [
      " 38%|██████████████████████████████████████████████████████████▊                                                                                                | 379492/1000000 [00:45<01:14, 8383.83it/s]"
     ]
    },
    {
     "name": "stdout",
     "output_type": "stream",
     "text": [
      "Cc1cocnnc2oc(C)c1-o-2\n"
     ]
    },
    {
     "name": "stderr",
     "output_type": "stream",
     "text": [
      " 39%|█████████████████████████████████████████████████████████████                                                                                              | 393820/1000000 [00:46<01:11, 8433.68it/s]"
     ]
    },
    {
     "name": "stdout",
     "output_type": "stream",
     "text": [
      "CCc1ccc2cnc([nH][nH]c1)[nH]2\n"
     ]
    },
    {
     "name": "stderr",
     "output_type": "stream",
     "text": [
      " 40%|█████████████████████████████████████████████████████████████▊                                                                                             | 398923/1000000 [00:47<01:11, 8428.92it/s]"
     ]
    },
    {
     "name": "stdout",
     "output_type": "stream",
     "text": [
      "Cc1c#ccnnc2onc(c1)-o-2\n"
     ]
    },
    {
     "name": "stderr",
     "output_type": "stream",
     "text": [
      " 40%|██████████████████████████████████████████████████████████████▏                                                                                            | 401456/1000000 [00:47<01:11, 8351.63it/s]"
     ]
    },
    {
     "name": "stdout",
     "output_type": "stream",
     "text": [
      "c1cc2ccocc3cnc(c1)c2-3\n"
     ]
    },
    {
     "name": "stderr",
     "output_type": "stream",
     "text": [
      " 43%|██████████████████████████████████████████████████████████████████▌                                                                                        | 429321/1000000 [00:51<01:08, 8321.16it/s]"
     ]
    },
    {
     "name": "stdout",
     "output_type": "stream",
     "text": [
      "Cn1oc2ncc([nH]ccc1=O)s2\n"
     ]
    },
    {
     "name": "stderr",
     "output_type": "stream",
     "text": [
      " 44%|████████████████████████████████████████████████████████████████████▍                                                                                      | 441256/1000000 [00:52<01:05, 8532.31it/s]"
     ]
    },
    {
     "name": "stdout",
     "output_type": "stream",
     "text": [
      "Cc1coc2csc(c2)[nH]c(=N)[nH]1\n"
     ]
    },
    {
     "name": "stderr",
     "output_type": "stream",
     "text": [
      " 46%|███████████████████████████████████████████████████████████████████████▊                                                                                   | 463277/1000000 [00:55<01:03, 8433.03it/s]"
     ]
    },
    {
     "name": "stdout",
     "output_type": "stream",
     "text": [
      "Cn1cc2ocnc3cncc1c32\n",
      "N#Cc1ccoc2cc(n[nH]2)[nH]c1\n"
     ]
    },
    {
     "name": "stderr",
     "output_type": "stream",
     "text": [
      " 47%|████████████████████████████████████████████████████████████████████████▋                                                                                  | 469214/1000000 [00:55<01:04, 8279.55it/s]"
     ]
    },
    {
     "name": "stdout",
     "output_type": "stream",
     "text": [
      "Cc1coccc2oc(cc2N)o1\n"
     ]
    },
    {
     "name": "stderr",
     "output_type": "stream",
     "text": [
      " 48%|██████████████████████████████████████████████████████████████████████████▋                                                                                | 482049/1000000 [00:57<01:01, 8381.37it/s]"
     ]
    },
    {
     "name": "stdout",
     "output_type": "stream",
     "text": [
      "Cc1con2cnc(nc[nH]1)c2C\n",
      "c1c2coc(n2)oc2ncc(c#1)s2\n"
     ]
    },
    {
     "name": "stderr",
     "output_type": "stream",
     "text": [
      " 50%|█████████████████████████████████████████████████████████████████████████████▉                                                                             | 502472/1000000 [00:59<00:58, 8509.19it/s]"
     ]
    },
    {
     "name": "stdout",
     "output_type": "stream",
     "text": [
      "N=c1cc[nH]c2cc(cn2O)o[nH]1\n"
     ]
    },
    {
     "name": "stderr",
     "output_type": "stream",
     "text": [
      " 54%|████████████████████████████████████████████████████████████████████████████████████                                                                       | 542275/1000000 [01:04<00:54, 8434.56it/s]"
     ]
    },
    {
     "name": "stdout",
     "output_type": "stream",
     "text": [
      "N=Cn1ccoccn2ccc1c2\n",
      "c1c2csc(nc3ccc(c#1)[nH]3)-n-2\n"
     ]
    },
    {
     "name": "stderr",
     "output_type": "stream",
     "text": [
      " 55%|█████████████████████████████████████████████████████████████████████████████████████▉                                                                     | 554219/1000000 [01:05<00:53, 8381.50it/s]"
     ]
    },
    {
     "name": "stdout",
     "output_type": "stream",
     "text": [
      "Cc1c2[nH]cncnoc1c(O)o2\n"
     ]
    },
    {
     "name": "stderr",
     "output_type": "stream",
     "text": [
      " 56%|██████████████████████████████████████████████████████████████████████████████████████▊                                                                    | 560127/1000000 [01:06<00:52, 8341.59it/s]"
     ]
    },
    {
     "name": "stdout",
     "output_type": "stream",
     "text": [
      "Cc1cc2ncc3ncnc([nH]1)n32\n"
     ]
    },
    {
     "name": "stderr",
     "output_type": "stream",
     "text": [
      " 57%|████████████████████████████████████████████████████████████████████████████████████████▎                                                                  | 569473/1000000 [01:07<00:52, 8246.59it/s]"
     ]
    },
    {
     "name": "stdout",
     "output_type": "stream",
     "text": [
      "Cn1cn[nH]ccc2oc1cc2N\n"
     ]
    },
    {
     "name": "stderr",
     "output_type": "stream",
     "text": [
      " 58%|██████████████████████████████████████████████████████████████████████████████████████████▍                                                                | 583071/1000000 [01:09<00:49, 8353.32it/s]"
     ]
    },
    {
     "name": "stdout",
     "output_type": "stream",
     "text": [
      "S=c1[nH]nc2ccc#cccn1-o-2\n"
     ]
    },
    {
     "name": "stderr",
     "output_type": "stream",
     "text": [
      " 61%|██████████████████████████████████████████████████████████████████████████████████████████████▌                                                            | 610249/1000000 [01:12<00:46, 8466.53it/s]"
     ]
    },
    {
     "name": "stdout",
     "output_type": "stream",
     "text": [
      "Cn1ccc2cc(cs2)c(O)c[nH]1\n"
     ]
    },
    {
     "name": "stderr",
     "output_type": "stream",
     "text": [
      " 63%|█████████████████████████████████████████████████████████████████████████████████████████████████▏                                                         | 627255/1000000 [01:14<00:44, 8467.41it/s]"
     ]
    },
    {
     "name": "stdout",
     "output_type": "stream",
     "text": [
      "O=c1onc2cncc3ccn1-n-3-2\n",
      "O=c1[nH]cc2cc1ocnnc[nH]2\n",
      "N#Cc1c[nH]c2cnn(cco1)n2\n"
     ]
    },
    {
     "name": "stderr",
     "output_type": "stream",
     "text": [
      " 63%|██████████████████████████████████████████████████████████████████████████████████████████████████                                                         | 632372/1000000 [01:15<00:43, 8489.39it/s]"
     ]
    },
    {
     "name": "stdout",
     "output_type": "stream",
     "text": [
      "OCc1n[nH]c2c[nH]c(cco1)c2\n"
     ]
    },
    {
     "name": "stderr",
     "output_type": "stream",
     "text": [
      " 64%|███████████████████████████████████████████████████████████████████████████████████████████████████▎                                                       | 640846/1000000 [01:16<00:43, 8244.57it/s]"
     ]
    },
    {
     "name": "stdout",
     "output_type": "stream",
     "text": [
      "Cc1c2cccccn[nH]c1n[nH]2\n"
     ]
    },
    {
     "name": "stderr",
     "output_type": "stream",
     "text": [
      " 65%|███████████████████████████████████████████████████████████████████████████████████████████████████▉                                                       | 645096/1000000 [01:16<00:42, 8358.98it/s]"
     ]
    },
    {
     "name": "stdout",
     "output_type": "stream",
     "text": [
      "Cc1c(N)c2ccoccon1c2\n"
     ]
    },
    {
     "name": "stderr",
     "output_type": "stream",
     "text": [
      " 65%|████████████████████████████████████████████████████████████████████████████████████████████████████▍                                                      | 647638/1000000 [01:17<00:42, 8353.35it/s]"
     ]
    },
    {
     "name": "stdout",
     "output_type": "stream",
     "text": [
      "Cc1c[nH]c(=N)onc2ccn1-s-2\n"
     ]
    },
    {
     "name": "stderr",
     "output_type": "stream",
     "text": [
      " 65%|█████████████████████████████████████████████████████████████████████████████████████████████████████▏                                                     | 652724/1000000 [01:17<00:41, 8457.31it/s]"
     ]
    },
    {
     "name": "stdout",
     "output_type": "stream",
     "text": [
      "Cc1oc2n[nH]c(=O)[nH]ccc1-n-2\n"
     ]
    },
    {
     "name": "stderr",
     "output_type": "stream",
     "text": [
      " 66%|██████████████████████████████████████████████████████████████████████████████████████████████████████                                                     | 658661/1000000 [01:18<00:41, 8239.26it/s]"
     ]
    },
    {
     "name": "stdout",
     "output_type": "stream",
     "text": [
      "Cc1cc2ocn[nH]c(=O)[nH]c1o2\n"
     ]
    },
    {
     "name": "stderr",
     "output_type": "stream",
     "text": [
      " 67%|███████████████████████████████████████████████████████████████████████████████████████████████████████▌                                                   | 667865/1000000 [01:19<00:40, 8241.52it/s]"
     ]
    },
    {
     "name": "stdout",
     "output_type": "stream",
     "text": [
      "O=c1c#cccon2ccc(c2)o1\n"
     ]
    },
    {
     "name": "stderr",
     "output_type": "stream",
     "text": [
      " 68%|████████████████████████████████████████████████████████████████████████████████████████████████████████▉                                                  | 677183/1000000 [01:20<00:38, 8449.06it/s]"
     ]
    },
    {
     "name": "stdout",
     "output_type": "stream",
     "text": [
      "N=Cc1c2ccocnnc1s[nH]2\n"
     ]
    },
    {
     "name": "stderr",
     "output_type": "stream",
     "text": [
      " 69%|██████████████████████████████████████████████████████████████████████████████████████████████████████████▍                                                | 686559/1000000 [01:21<00:36, 8515.94it/s]"
     ]
    },
    {
     "name": "stdout",
     "output_type": "stream",
     "text": [
      "Oc1[nH]c2ncnc3occc1c23\n"
     ]
    },
    {
     "name": "stderr",
     "output_type": "stream",
     "text": [
      " 73%|█████████████████████████████████████████████████████████████████████████████████████████████████████████████████▎                                         | 731078/1000000 [01:27<00:32, 8374.64it/s]"
     ]
    },
    {
     "name": "stdout",
     "output_type": "stream",
     "text": [
      "Oc1cnc2[nH]ncc3coc1c32\n"
     ]
    },
    {
     "name": "stderr",
     "output_type": "stream",
     "text": [
      " 75%|███████████████████████████████████████████████████████████████████████████████████████████████████████████████████▌                                       | 745433/1000000 [01:28<00:30, 8290.75it/s]"
     ]
    },
    {
     "name": "stdout",
     "output_type": "stream",
     "text": [
      "c1c2csc(nn3cc(c#1)nn3)-o-2\n"
     ]
    },
    {
     "name": "stderr",
     "output_type": "stream",
     "text": [
      " 76%|█████████████████████████████████████████████████████████████████████████████████████████████████████████████████████▊                                     | 759883/1000000 [01:30<00:28, 8371.24it/s]"
     ]
    },
    {
     "name": "stdout",
     "output_type": "stream",
     "text": [
      "C=c1c#cc(=C)oc2nc(c[nH]2)o1\n"
     ]
    },
    {
     "name": "stderr",
     "output_type": "stream",
     "text": [
      " 76%|██████████████████████████████████████████████████████████████████████████████████████████████████████████████████████▎                                    | 763269/1000000 [01:30<00:28, 8254.75it/s]"
     ]
    },
    {
     "name": "stdout",
     "output_type": "stream",
     "text": [
      "Cc1ccoc2c(C)sc(nn1)-n-2\n",
      "Oc1cc2cc(n1)[nH]nccc[nH]2\n"
     ]
    },
    {
     "name": "stderr",
     "output_type": "stream",
     "text": [
      " 78%|████████████████████████████████████████████████████████████████████████████████████████████████████████████████████████▋                                  | 778495/1000000 [01:32<00:27, 8185.83it/s]"
     ]
    },
    {
     "name": "stdout",
     "output_type": "stream",
     "text": [
      "O=c1c#cccoc2noc(n1)-n-2\n"
     ]
    },
    {
     "name": "stderr",
     "output_type": "stream",
     "text": [
      " 81%|██████████████████████████████████████████████████████████████████████████████████████████████████████████████████████████████▏                            | 814121/1000000 [01:37<00:22, 8241.18it/s]"
     ]
    },
    {
     "name": "stdout",
     "output_type": "stream",
     "text": [
      "Cc1ccn[nH]ccc2cc1[nH]n2\n"
     ]
    },
    {
     "name": "stderr",
     "output_type": "stream",
     "text": [
      " 84%|██████████████████████████████████████████████████████████████████████████████████████████████████████████████████████████████████▋                        | 842977/1000000 [01:40<00:18, 8297.26it/s]"
     ]
    },
    {
     "name": "stdout",
     "output_type": "stream",
     "text": [
      "O=c1sn2cc1c#ccccco2\n",
      "Cc1nncoc2nn(cc2C)o1\n"
     ]
    },
    {
     "name": "stderr",
     "output_type": "stream",
     "text": [
      " 84%|██████████████████████████████████████████████████████████████████████████████████████████████████████████████████████████████████▉                        | 844661/1000000 [01:40<00:18, 8341.06it/s]"
     ]
    },
    {
     "name": "stdout",
     "output_type": "stream",
     "text": [
      "c1cn2ccc3c(csc32)nc[nH]1\n"
     ]
    },
    {
     "name": "stderr",
     "output_type": "stream",
     "text": [
      " 85%|███████████████████████████████████████████████████████████████████████████████████████████████████████████████████████████████████▋                       | 849772/1000000 [01:41<00:17, 8423.39it/s]"
     ]
    },
    {
     "name": "stdout",
     "output_type": "stream",
     "text": [
      "Cc1c[nH]c2cc([nH]n2)o[nH]c1=O\n",
      "c1cc[nH]c2nncc(cc#1)-n-2\n"
     ]
    },
    {
     "name": "stderr",
     "output_type": "stream",
     "text": [
      " 86%|████████████████████████████████████████████████████████████████████████████████████████████████████████████████████████████████████▊                      | 856533/1000000 [01:42<00:17, 8197.03it/s]"
     ]
    },
    {
     "name": "stdout",
     "output_type": "stream",
     "text": [
      "Cc1cn2ccnc3occc1c32\n"
     ]
    },
    {
     "name": "stderr",
     "output_type": "stream",
     "text": [
      " 87%|██████████████████████████████████████████████████████████████████████████████████████████████████████████████████████████████████████▉                    | 870790/1000000 [01:43<00:15, 8238.42it/s]"
     ]
    },
    {
     "name": "stdout",
     "output_type": "stream",
     "text": [
      "Cn1cc2cnc3nncc([nH]1)c3-2\n",
      "c1cc2ccoc3coc(n1)c23\n"
     ]
    },
    {
     "name": "stderr",
     "output_type": "stream",
     "text": [
      " 88%|████████████████████████████████████████████████████████████████████████████████████████████████████████████████████████████████████████▏                  | 878405/1000000 [01:44<00:14, 8358.33it/s]"
     ]
    },
    {
     "name": "stdout",
     "output_type": "stream",
     "text": [
      "Cc1cnc2snc([nH][nH]c1)c2O\n"
     ]
    },
    {
     "name": "stderr",
     "output_type": "stream",
     "text": [
      " 89%|█████████████████████████████████████████████████████████████████████████████████████████████████████████████████████████████████████████▎                 | 886106/1000000 [01:45<00:13, 8560.98it/s]"
     ]
    },
    {
     "name": "stdout",
     "output_type": "stream",
     "text": [
      "Cc1cc2occocnn1c2O\n"
     ]
    },
    {
     "name": "stderr",
     "output_type": "stream",
     "text": [
      " 90%|███████████████████████████████████████████████████████████████████████████████████████████████████████████████████████████████████████████                | 897279/1000000 [01:47<00:12, 8528.60it/s]"
     ]
    },
    {
     "name": "stdout",
     "output_type": "stream",
     "text": [
      "O=c1c#ccnnc2scc([nH]1)-s-2\n"
     ]
    },
    {
     "name": "stderr",
     "output_type": "stream",
     "text": [
      " 90%|███████████████████████████████████████████████████████████████████████████████████████████████████████████████████████████████████████████▌               | 900708/1000000 [01:47<00:11, 8554.65it/s]"
     ]
    },
    {
     "name": "stdout",
     "output_type": "stream",
     "text": [
      "Cn1c(=N)o[nH]ccc2coc1n2\n"
     ]
    },
    {
     "name": "stderr",
     "output_type": "stream",
     "text": [
      " 91%|█████████████████████████████████████████████████████████████████████████████████████████████████████████████████████████████████████████████              | 910144/1000000 [01:48<00:10, 8570.77it/s]"
     ]
    },
    {
     "name": "stdout",
     "output_type": "stream",
     "text": [
      "c1c2cc(oc3nnc(c#1)s3)sn2\n",
      "Cc1cccnnc2occ(c1)-s-2\n"
     ]
    },
    {
     "name": "stderr",
     "output_type": "stream",
     "text": [
      " 92%|██████████████████████████████████████████████████████████████████████████████████████████████████████████████████████████████████████████████             | 916149/1000000 [01:49<00:09, 8526.76it/s]"
     ]
    },
    {
     "name": "stdout",
     "output_type": "stream",
     "text": [
      "OCc1cc2ccoccon1c2\n"
     ]
    },
    {
     "name": "stderr",
     "output_type": "stream",
     "text": [
      " 94%|█████████████████████████████████████████████████████████████████████████████████████████████████████████████████████████████████████████████████          | 935636/1000000 [01:51<00:07, 8281.23it/s]"
     ]
    },
    {
     "name": "stdout",
     "output_type": "stream",
     "text": [
      "C=Cn1cnc2ccc1c(Cl)c2Cl\n"
     ]
    },
    {
     "name": "stderr",
     "output_type": "stream",
     "text": [
      " 94%|██████████████████████████████████████████████████████████████████████████████████████████████████████████████████████████████████████████████████▎        | 944123/1000000 [01:52<00:06, 8466.02it/s]"
     ]
    },
    {
     "name": "stdout",
     "output_type": "stream",
     "text": [
      "Cn1[nH]c2ccc(cn[nH]c1=O)s2\n"
     ]
    },
    {
     "name": "stderr",
     "output_type": "stream",
     "text": [
      " 95%|███████████████████████████████████████████████████████████████████████████████████████████████████████████████████████████████████████████████████▊       | 953397/1000000 [01:53<00:05, 8279.74it/s]"
     ]
    },
    {
     "name": "stdout",
     "output_type": "stream",
     "text": [
      "NCc1coccc2c[nH]c(n2)o1\n"
     ]
    },
    {
     "name": "stderr",
     "output_type": "stream",
     "text": [
      " 97%|███████████████████████████████████████████████████████████████████████████████████████████████████████████████████████████████████████████████████████    | 974554/1000000 [01:56<00:03, 8221.42it/s]"
     ]
    },
    {
     "name": "stdout",
     "output_type": "stream",
     "text": [
      "Cn1cccnn2ccc(n1)-o-2\n"
     ]
    },
    {
     "name": "stderr",
     "output_type": "stream",
     "text": [
      " 99%|█████████████████████████████████████████████████████████████████████████████████████████████████████████████████████████████████████████████████████████▎ | 988933/1000000 [01:57<00:01, 8253.85it/s]"
     ]
    },
    {
     "name": "stdout",
     "output_type": "stream",
     "text": [
      "CCc1cc(=O)c2o[nH]cc1-c=2O\n"
     ]
    },
    {
     "name": "stderr",
     "output_type": "stream",
     "text": [
      " 99%|█████████████████████████████████████████████████████████████████████████████████████████████████████████████████████████████████████████████████████████▊ | 992345/1000000 [01:58<00:00, 8462.05it/s]"
     ]
    },
    {
     "name": "stdout",
     "output_type": "stream",
     "text": [
      "Clc1cc2cco[nH]ccc1o2\n"
     ]
    },
    {
     "name": "stderr",
     "output_type": "stream",
     "text": [
      "100%|██████████████████████████████████████████████████████████████████████████████████████████████████████████████████████████████████████████████████████████▎| 995779/1000000 [01:58<00:00, 8544.81it/s]"
     ]
    },
    {
     "name": "stdout",
     "output_type": "stream",
     "text": [
      "O=c1ccccc2c(=O)[nH]c(c1)-n=2\n"
     ]
    },
    {
     "name": "stderr",
     "output_type": "stream",
     "text": [
      "100%|██████████████████████████████████████████████████████████████████████████████████████████████████████████████████████████████████████████████████████████| 1000000/1000000 [01:59<00:00, 8383.32it/s]"
     ]
    },
    {
     "name": "stdout",
     "output_type": "stream",
     "text": [
      "Cc1c#cc2c(=O)cc(cnn1)-n=2\n",
      "Nc1cc2ccoccon1c2N\n"
     ]
    },
    {
     "name": "stderr",
     "output_type": "stream",
     "text": [
      "\n"
     ]
    }
   ],
   "source": [
    "count = 0\n",
    "for split in (train_data, valid_data):\n",
    "    for smi in tqdm(split):\n",
    "        b = check_canon(smi)\n",
    "        if not b:\n",
    "            print(smi)\n",
    "            count+=1"
   ]
  },
  {
   "cell_type": "code",
   "execution_count": 18,
   "id": "31211aed",
   "metadata": {},
   "outputs": [
    {
     "data": {
      "text/plain": [
       "216"
      ]
     },
     "execution_count": 18,
     "metadata": {},
     "output_type": "execute_result"
    }
   ],
   "source": [
    "count"
   ]
  },
  {
   "cell_type": "markdown",
   "id": "6383f95d",
   "metadata": {},
   "source": [
    "### Check Canonical"
   ]
  },
  {
   "cell_type": "code",
   "execution_count": 22,
   "id": "c4821f78",
   "metadata": {},
   "outputs": [
    {
     "name": "stderr",
     "output_type": "stream",
     "text": [
      "1000000it [01:53, 8820.98it/s]\n"
     ]
    },
    {
     "data": {
      "text/plain": [
       "0"
      ]
     },
     "execution_count": 22,
     "metadata": {},
     "output_type": "execute_result"
    }
   ],
   "source": [
    "# Check only for SMILES\n",
    "count = 0\n",
    "with open(\"./data-subsets/All/train_all.jsonl\", \"r\") as f:\n",
    "    for line_str in tqdm(f):\n",
    "        line_obj = json.loads(line_str)\n",
    "        smi = line_obj[\"text\"]\n",
    "        is_canon = check_canon(smi)\n",
    "        if not is_canon:\n",
    "            print(smi)\n",
    "            count+=1\n",
    "count            "
   ]
  },
  {
   "cell_type": "code",
   "execution_count": 21,
   "id": "e307778e",
   "metadata": {},
   "outputs": [
    {
     "data": {
      "text/plain": [
       "'Cc1ncnc(N(C)C)c(=O)c1C'"
      ]
     },
     "execution_count": 21,
     "metadata": {},
     "output_type": "execute_result"
    }
   ],
   "source": [
    "Chem.MolToSmiles(Chem.MolFromSmiles(\"CC=1N=CN=C(N(C)C)C(=O)C=1C\"))"
   ]
  },
  {
   "cell_type": "markdown",
   "id": "78543b39",
   "metadata": {},
   "source": [
    "### Make Canonical"
   ]
  },
  {
   "cell_type": "code",
   "execution_count": 33,
   "id": "e9dd1950",
   "metadata": {},
   "outputs": [],
   "source": [
    "def make_canonical_smiles(path):\n",
    "    with open(path, \"r\") as file_1:\n",
    "        path_smi = path.split(\".jsonl\")[0]\n",
    "        \n",
    "        with open(f\"{path_sf}_canonical.jsonl\", \"w\") as file_2:\n",
    "            for line_str in tqdm(file_1):\n",
    "                line_obj = json.loads(line_str)\n",
    "                smi = line_obj[\"text\"]\n",
    "                \n",
    "                # Make canonical\n",
    "                canon_smi = make_canon(smi)\n",
    "                \n",
    "                if canon_smi:\n",
    "                    # Write\n",
    "                    new_line = {\"text\": canon_smi}\n",
    "                    json.dump(new_line, file_2)\n",
    "                    file_2.write(\"\\n\")"
   ]
  },
  {
   "cell_type": "markdown",
   "id": "a6bd571e",
   "metadata": {},
   "source": [
    "### Convert smiles to selfies "
   ]
  },
  {
   "cell_type": "code",
   "execution_count": 25,
   "id": "0f4a668d",
   "metadata": {},
   "outputs": [],
   "source": [
    "def convert_smi_to_sf(path):\n",
    "    with open(path, \"r\") as file_1:\n",
    "        path_sf = path.split(\".jsonl\")[0]\n",
    "        \n",
    "        with open(f\"{path_sf}_selfies.jsonl\", \"w\") as file_2:\n",
    "            for line_str in tqdm(file_1):\n",
    "                line_obj = json.loads(line_str)\n",
    "                \n",
    "                # Transform to selfies\n",
    "                selfies_str = sf.encoder(line_obj[\"text\"])\n",
    "                \n",
    "                # Write\n",
    "                new_line = {\"text\": selfies_str}\n",
    "                json.dump(new_line, file_2)\n",
    "                file_2.write(\"\\n\")"
   ]
  },
  {
   "cell_type": "code",
   "execution_count": 34,
   "id": "beb11c7c",
   "metadata": {},
   "outputs": [
    {
     "name": "stderr",
     "output_type": "stream",
     "text": [
      "100000it [00:17, 5734.40it/s]\n"
     ]
    }
   ],
   "source": [
    "convert_smi_to_sf(\"./data-subsets/Sas_3/valid_sas_3.jsonl\")"
   ]
  },
  {
   "cell_type": "code",
   "execution_count": null,
   "id": "c1d8f1a4",
   "metadata": {},
   "outputs": [],
   "source": []
  }
 ],
 "metadata": {
  "kernelspec": {
   "display_name": "Python 3 (ipykernel)",
   "language": "python",
   "name": "python3"
  },
  "language_info": {
   "codemirror_mode": {
    "name": "ipython",
    "version": 3
   },
   "file_extension": ".py",
   "mimetype": "text/x-python",
   "name": "python",
   "nbconvert_exporter": "python",
   "pygments_lexer": "ipython3",
   "version": "3.10.9"
  }
 },
 "nbformat": 4,
 "nbformat_minor": 5
}
