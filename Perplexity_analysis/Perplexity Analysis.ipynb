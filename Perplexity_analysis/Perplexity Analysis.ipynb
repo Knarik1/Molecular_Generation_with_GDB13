{
 "cells": [
  {
   "cell_type": "code",
   "execution_count": 1,
   "id": "3576ac50",
   "metadata": {},
   "outputs": [],
   "source": [
    "import random\n",
    "import json\n",
    "import pandas as pd\n",
    "import selfies as sf\n",
    "from tqdm import tqdm\n",
    "from rdkit import Chem\n",
    "import matplotlib.pyplot as plt"
   ]
  },
  {
   "cell_type": "code",
   "execution_count": 2,
   "id": "3270c81e",
   "metadata": {},
   "outputs": [],
   "source": [
    "def make_canonical_smiles(selfies):\n",
    "    canon_smiles = None\n",
    "    smiles = sf.decoder(selfies)\n",
    "\n",
    "    try:\n",
    "        canon_smiles = Chem.MolToSmiles(Chem.MolFromSmiles(smiles))\n",
    "    except:\n",
    "        pass  \n",
    "\n",
    "    return canon_smiles"
   ]
  },
  {
   "cell_type": "markdown",
   "id": "5ab9ecec",
   "metadata": {},
   "source": [
    "## Perplexities of Sas Selfies"
   ]
  },
  {
   "cell_type": "code",
   "execution_count": 3,
   "id": "ce1bdd2d",
   "metadata": {
    "scrolled": true
   },
   "outputs": [
    {
     "name": "stdout",
     "output_type": "stream",
     "text": [
      "Lenght 10240\n"
     ]
    },
    {
     "data": {
      "text/html": [
       "<div>\n",
       "<style scoped>\n",
       "    .dataframe tbody tr th:only-of-type {\n",
       "        vertical-align: middle;\n",
       "    }\n",
       "\n",
       "    .dataframe tbody tr th {\n",
       "        vertical-align: top;\n",
       "    }\n",
       "\n",
       "    .dataframe thead th {\n",
       "        text-align: right;\n",
       "    }\n",
       "</style>\n",
       "<table border=\"1\" class=\"dataframe\">\n",
       "  <thead>\n",
       "    <tr style=\"text-align: right;\">\n",
       "      <th></th>\n",
       "      <th>ppl</th>\n",
       "      <th>selfies</th>\n",
       "      <th>smiles</th>\n",
       "    </tr>\n",
       "  </thead>\n",
       "  <tbody>\n",
       "    <tr>\n",
       "      <th>0</th>\n",
       "      <td>1.94</td>\n",
       "      <td>[C][C][N][Branch1][Branch2][C][C][=Branch1][C]...</td>\n",
       "      <td>CCN(CC(=O)NO)C(=O)CNCCN1C=Cc2ccc(C#N)n2N=C1</td>\n",
       "    </tr>\n",
       "    <tr>\n",
       "      <th>1</th>\n",
       "      <td>1.61</td>\n",
       "      <td>[C][C][N][C][Branch1][Ring1][C][C][C][C][N][Br...</td>\n",
       "      <td>CCNC1(CC)CCN(C(C)=O)C1C=C(C)c1c(CC)ncc(O)c1Cl</td>\n",
       "    </tr>\n",
       "    <tr>\n",
       "      <th>2</th>\n",
       "      <td>1.68</td>\n",
       "      <td>[C][C][Branch1][C][C][C][=C][N][=C][Branch1][B...</td>\n",
       "      <td>CC(C)c1cnc(-c2ccon2)o1</td>\n",
       "    </tr>\n",
       "    <tr>\n",
       "      <th>3</th>\n",
       "      <td>1.69</td>\n",
       "      <td>[C][C][N][C][C][C][C][C][Branch1][=Branch1][C]...</td>\n",
       "      <td>CCN1CCCCC(C(C)=O)=C1NCC(=O)c1nn2ccccc2c1C</td>\n",
       "    </tr>\n",
       "    <tr>\n",
       "      <th>4</th>\n",
       "      <td>1.64</td>\n",
       "      <td>[C][=C][C][C][Branch1][=Branch1][C][Branch1][C...</td>\n",
       "      <td>C=Cc1c(C(C)=O)c[nH]c1CCCCc1ccc2c(c1)C(CO)=CC2</td>\n",
       "    </tr>\n",
       "  </tbody>\n",
       "</table>\n",
       "</div>"
      ],
      "text/plain": [
       "    ppl                                            selfies   \n",
       "0  1.94  [C][C][N][Branch1][Branch2][C][C][=Branch1][C]...  \\\n",
       "1  1.61  [C][C][N][C][Branch1][Ring1][C][C][C][C][N][Br...   \n",
       "2  1.68  [C][C][Branch1][C][C][C][=C][N][=C][Branch1][B...   \n",
       "3  1.69  [C][C][N][C][C][C][C][C][Branch1][=Branch1][C]...   \n",
       "4  1.64  [C][=C][C][C][Branch1][=Branch1][C][Branch1][C...   \n",
       "\n",
       "                                          smiles  \n",
       "0    CCN(CC(=O)NO)C(=O)CNCCN1C=Cc2ccc(C#N)n2N=C1  \n",
       "1  CCNC1(CC)CCN(C(C)=O)C1C=C(C)c1c(CC)ncc(O)c1Cl  \n",
       "2                         CC(C)c1cnc(-c2ccon2)o1  \n",
       "3      CCN1CCCCC(C(C)=O)=C1NCC(=O)c1nn2ccccc2c1C  \n",
       "4  C=Cc1c(C(C)=O)c[nH]c1CCCCc1ccc2c(c1)C(CO)=CC2  "
      ]
     },
     "execution_count": 3,
     "metadata": {},
     "output_type": "execute_result"
    }
   ],
   "source": [
    "gen_sas_df = pd.read_csv(\"data-bin-gen-sas-selfies.csv\", names=[\"ppl\", \"selfies\"])\n",
    "gen_sas_df[\"smiles\"] = gen_sas_df[\"selfies\"].apply(make_canonical_smiles)\n",
    "print(\"Lenght\", len(gen_sas_df))\n",
    "gen_sas_df.head()"
   ]
  },
  {
   "cell_type": "code",
   "execution_count": 4,
   "id": "ecc8215e",
   "metadata": {},
   "outputs": [
    {
     "name": "stdout",
     "output_type": "stream",
     "text": [
      "Lenght 10238\n"
     ]
    },
    {
     "data": {
      "text/html": [
       "<div>\n",
       "<style scoped>\n",
       "    .dataframe tbody tr th:only-of-type {\n",
       "        vertical-align: middle;\n",
       "    }\n",
       "\n",
       "    .dataframe tbody tr th {\n",
       "        vertical-align: top;\n",
       "    }\n",
       "\n",
       "    .dataframe thead th {\n",
       "        text-align: right;\n",
       "    }\n",
       "</style>\n",
       "<table border=\"1\" class=\"dataframe\">\n",
       "  <thead>\n",
       "    <tr style=\"text-align: right;\">\n",
       "      <th></th>\n",
       "      <th>ppl</th>\n",
       "      <th>selfies</th>\n",
       "      <th>smiles</th>\n",
       "    </tr>\n",
       "  </thead>\n",
       "  <tbody>\n",
       "    <tr>\n",
       "      <th>0</th>\n",
       "      <td>1.70</td>\n",
       "      <td>[C][C][C][=C][Branch1][C][O][C][=C][C][=N][C][...</td>\n",
       "      <td>Cc1cc(O)c2ccnc(=O)n2c1Cc1nccc(CO)c2cnnc1-2</td>\n",
       "    </tr>\n",
       "    <tr>\n",
       "      <th>1</th>\n",
       "      <td>1.74</td>\n",
       "      <td>[C][C][C][N][C][=N][C][Branch1][Ring1][C][#N][...</td>\n",
       "      <td>CCCn1cnc(C#N)c1ONCCOCCc1cnc(CN)o1</td>\n",
       "    </tr>\n",
       "    <tr>\n",
       "      <th>2</th>\n",
       "      <td>1.61</td>\n",
       "      <td>[C][C][Branch1][C][C][C][N][C][=C][C][Branch1]...</td>\n",
       "      <td>CC(C)Cn1ccc(CCN)n1</td>\n",
       "    </tr>\n",
       "    <tr>\n",
       "      <th>3</th>\n",
       "      <td>1.61</td>\n",
       "      <td>[C][C][C][C][=N][C][Branch1][C][C][=C][Branch1...</td>\n",
       "      <td>CCCc1nc(C)c(C(C)(C)C)o1</td>\n",
       "    </tr>\n",
       "    <tr>\n",
       "      <th>4</th>\n",
       "      <td>1.71</td>\n",
       "      <td>[C][=N][O][C][=Branch1][C][=O][C][C][C][C][C][...</td>\n",
       "      <td>C=NOC(=O)CCCCCC(=O)ON=C(N)c1cccc2cnoc12</td>\n",
       "    </tr>\n",
       "  </tbody>\n",
       "</table>\n",
       "</div>"
      ],
      "text/plain": [
       "    ppl                                            selfies   \n",
       "0  1.70  [C][C][C][=C][Branch1][C][O][C][=C][C][=N][C][...  \\\n",
       "1  1.74  [C][C][C][N][C][=N][C][Branch1][Ring1][C][#N][...   \n",
       "2  1.61  [C][C][Branch1][C][C][C][N][C][=C][C][Branch1]...   \n",
       "3  1.61  [C][C][C][C][=N][C][Branch1][C][C][=C][Branch1...   \n",
       "4  1.71  [C][=N][O][C][=Branch1][C][=O][C][C][C][C][C][...   \n",
       "\n",
       "                                       smiles  \n",
       "0  Cc1cc(O)c2ccnc(=O)n2c1Cc1nccc(CO)c2cnnc1-2  \n",
       "1           CCCn1cnc(C#N)c1ONCCOCCc1cnc(CN)o1  \n",
       "2                          CC(C)Cn1ccc(CCN)n1  \n",
       "3                     CCCc1nc(C)c(C(C)(C)C)o1  \n",
       "4     C=NOC(=O)CCCCCC(=O)ON=C(N)c1cccc2cnoc12  "
      ]
     },
     "execution_count": 4,
     "metadata": {},
     "output_type": "execute_result"
    }
   ],
   "source": [
    "non_gen_sas_df = pd.read_csv(\"data-bin-non-sas-selfies.csv\", names=[\"ppl\", \"selfies\"])\n",
    "non_gen_sas_df[\"smiles\"] = non_gen_sas_df[\"selfies\"].apply(make_canonical_smiles)\n",
    "print(\"Lenght\", len(non_gen_sas_df))\n",
    "non_gen_sas_df.head()"
   ]
  },
  {
   "cell_type": "code",
   "execution_count": 5,
   "id": "e9a8b2d8",
   "metadata": {},
   "outputs": [
    {
     "data": {
      "text/plain": [
       "set()"
      ]
     },
     "execution_count": 5,
     "metadata": {},
     "output_type": "execute_result"
    }
   ],
   "source": [
    "# Check intersection\n",
    "set(gen_sas_df[\"smiles\"].values).intersection(set(non_gen_sas_df[\"smiles\"].values))"
   ]
  },
  {
   "cell_type": "code",
   "execution_count": 7,
   "id": "e8f19e52",
   "metadata": {},
   "outputs": [
    {
     "data": {
      "text/plain": [
       "454656"
      ]
     },
     "execution_count": 7,
     "metadata": {},
     "output_type": "execute_result"
    }
   ],
   "source": [
    "train_sas_df = pd.read_csv(\"data-bin-train-sas-all-selfies.csv\", names=[\"ppl\", \"selfies\"])\n",
    "len(train_sas_df)"
   ]
  },
  {
   "cell_type": "code",
   "execution_count": 27,
   "id": "b4f91cdf",
   "metadata": {},
   "outputs": [
    {
     "ename": "AttributeError",
     "evalue": "'float' object has no attribute 'split'",
     "output_type": "error",
     "traceback": [
      "\u001b[0;31m---------------------------------------------------------------------------\u001b[0m",
      "\u001b[0;31mAttributeError\u001b[0m                            Traceback (most recent call last)",
      "Cell \u001b[0;32mIn[27], line 1\u001b[0m\n\u001b[0;32m----> 1\u001b[0m train_sas_df[\u001b[38;5;124m\"\u001b[39m\u001b[38;5;124msmiles\u001b[39m\u001b[38;5;124m\"\u001b[39m] \u001b[38;5;241m=\u001b[39m \u001b[43mtrain_sas_df\u001b[49m\u001b[43m[\u001b[49m\u001b[38;5;124;43m\"\u001b[39;49m\u001b[38;5;124;43mselfies\u001b[39;49m\u001b[38;5;124;43m\"\u001b[39;49m\u001b[43m]\u001b[49m\u001b[38;5;241;43m.\u001b[39;49m\u001b[43mapply\u001b[49m\u001b[43m(\u001b[49m\u001b[43mmake_canonical_smiles\u001b[49m\u001b[43m)\u001b[49m\n\u001b[1;32m      2\u001b[0m \u001b[38;5;28mprint\u001b[39m(\u001b[38;5;124m\"\u001b[39m\u001b[38;5;124mLenght\u001b[39m\u001b[38;5;124m\"\u001b[39m, \u001b[38;5;28mlen\u001b[39m(train_sas_df))\n\u001b[1;32m      3\u001b[0m train_sas_df\u001b[38;5;241m.\u001b[39mhead()\n",
      "File \u001b[0;32m~/miniconda3/envs/gdb/lib/python3.10/site-packages/pandas/core/series.py:4631\u001b[0m, in \u001b[0;36mSeries.apply\u001b[0;34m(self, func, convert_dtype, args, **kwargs)\u001b[0m\n\u001b[1;32m   4521\u001b[0m \u001b[38;5;28;01mdef\u001b[39;00m \u001b[38;5;21mapply\u001b[39m(\n\u001b[1;32m   4522\u001b[0m     \u001b[38;5;28mself\u001b[39m,\n\u001b[1;32m   4523\u001b[0m     func: AggFuncType,\n\u001b[0;32m   (...)\u001b[0m\n\u001b[1;32m   4526\u001b[0m     \u001b[38;5;241m*\u001b[39m\u001b[38;5;241m*\u001b[39mkwargs,\n\u001b[1;32m   4527\u001b[0m ) \u001b[38;5;241m-\u001b[39m\u001b[38;5;241m>\u001b[39m DataFrame \u001b[38;5;241m|\u001b[39m Series:\n\u001b[1;32m   4528\u001b[0m \u001b[38;5;250m    \u001b[39m\u001b[38;5;124;03m\"\"\"\u001b[39;00m\n\u001b[1;32m   4529\u001b[0m \u001b[38;5;124;03m    Invoke function on values of Series.\u001b[39;00m\n\u001b[1;32m   4530\u001b[0m \n\u001b[0;32m   (...)\u001b[0m\n\u001b[1;32m   4629\u001b[0m \u001b[38;5;124;03m    dtype: float64\u001b[39;00m\n\u001b[1;32m   4630\u001b[0m \u001b[38;5;124;03m    \"\"\"\u001b[39;00m\n\u001b[0;32m-> 4631\u001b[0m     \u001b[38;5;28;01mreturn\u001b[39;00m \u001b[43mSeriesApply\u001b[49m\u001b[43m(\u001b[49m\u001b[38;5;28;43mself\u001b[39;49m\u001b[43m,\u001b[49m\u001b[43m \u001b[49m\u001b[43mfunc\u001b[49m\u001b[43m,\u001b[49m\u001b[43m \u001b[49m\u001b[43mconvert_dtype\u001b[49m\u001b[43m,\u001b[49m\u001b[43m \u001b[49m\u001b[43margs\u001b[49m\u001b[43m,\u001b[49m\u001b[43m \u001b[49m\u001b[43mkwargs\u001b[49m\u001b[43m)\u001b[49m\u001b[38;5;241;43m.\u001b[39;49m\u001b[43mapply\u001b[49m\u001b[43m(\u001b[49m\u001b[43m)\u001b[49m\n",
      "File \u001b[0;32m~/miniconda3/envs/gdb/lib/python3.10/site-packages/pandas/core/apply.py:1025\u001b[0m, in \u001b[0;36mSeriesApply.apply\u001b[0;34m(self)\u001b[0m\n\u001b[1;32m   1022\u001b[0m     \u001b[38;5;28;01mreturn\u001b[39;00m \u001b[38;5;28mself\u001b[39m\u001b[38;5;241m.\u001b[39mapply_str()\n\u001b[1;32m   1024\u001b[0m \u001b[38;5;66;03m# self.f is Callable\u001b[39;00m\n\u001b[0;32m-> 1025\u001b[0m \u001b[38;5;28;01mreturn\u001b[39;00m \u001b[38;5;28;43mself\u001b[39;49m\u001b[38;5;241;43m.\u001b[39;49m\u001b[43mapply_standard\u001b[49m\u001b[43m(\u001b[49m\u001b[43m)\u001b[49m\n",
      "File \u001b[0;32m~/miniconda3/envs/gdb/lib/python3.10/site-packages/pandas/core/apply.py:1076\u001b[0m, in \u001b[0;36mSeriesApply.apply_standard\u001b[0;34m(self)\u001b[0m\n\u001b[1;32m   1074\u001b[0m     \u001b[38;5;28;01melse\u001b[39;00m:\n\u001b[1;32m   1075\u001b[0m         values \u001b[38;5;241m=\u001b[39m obj\u001b[38;5;241m.\u001b[39mastype(\u001b[38;5;28mobject\u001b[39m)\u001b[38;5;241m.\u001b[39m_values\n\u001b[0;32m-> 1076\u001b[0m         mapped \u001b[38;5;241m=\u001b[39m \u001b[43mlib\u001b[49m\u001b[38;5;241;43m.\u001b[39;49m\u001b[43mmap_infer\u001b[49m\u001b[43m(\u001b[49m\n\u001b[1;32m   1077\u001b[0m \u001b[43m            \u001b[49m\u001b[43mvalues\u001b[49m\u001b[43m,\u001b[49m\n\u001b[1;32m   1078\u001b[0m \u001b[43m            \u001b[49m\u001b[43mf\u001b[49m\u001b[43m,\u001b[49m\n\u001b[1;32m   1079\u001b[0m \u001b[43m            \u001b[49m\u001b[43mconvert\u001b[49m\u001b[38;5;241;43m=\u001b[39;49m\u001b[38;5;28;43mself\u001b[39;49m\u001b[38;5;241;43m.\u001b[39;49m\u001b[43mconvert_dtype\u001b[49m\u001b[43m,\u001b[49m\n\u001b[1;32m   1080\u001b[0m \u001b[43m        \u001b[49m\u001b[43m)\u001b[49m\n\u001b[1;32m   1082\u001b[0m \u001b[38;5;28;01mif\u001b[39;00m \u001b[38;5;28mlen\u001b[39m(mapped) \u001b[38;5;129;01mand\u001b[39;00m \u001b[38;5;28misinstance\u001b[39m(mapped[\u001b[38;5;241m0\u001b[39m], ABCSeries):\n\u001b[1;32m   1083\u001b[0m     \u001b[38;5;66;03m# GH#43986 Need to do list(mapped) in order to get treated as nested\u001b[39;00m\n\u001b[1;32m   1084\u001b[0m     \u001b[38;5;66;03m#  See also GH#25959 regarding EA support\u001b[39;00m\n\u001b[1;32m   1085\u001b[0m     \u001b[38;5;28;01mreturn\u001b[39;00m obj\u001b[38;5;241m.\u001b[39m_constructor_expanddim(\u001b[38;5;28mlist\u001b[39m(mapped), index\u001b[38;5;241m=\u001b[39mobj\u001b[38;5;241m.\u001b[39mindex)\n",
      "File \u001b[0;32m~/miniconda3/envs/gdb/lib/python3.10/site-packages/pandas/_libs/lib.pyx:2834\u001b[0m, in \u001b[0;36mpandas._libs.lib.map_infer\u001b[0;34m()\u001b[0m\n",
      "Cell \u001b[0;32mIn[25], line 3\u001b[0m, in \u001b[0;36mmake_canonical_smiles\u001b[0;34m(selfies)\u001b[0m\n\u001b[1;32m      1\u001b[0m \u001b[38;5;28;01mdef\u001b[39;00m \u001b[38;5;21mmake_canonical_smiles\u001b[39m(selfies):\n\u001b[1;32m      2\u001b[0m     canon_smiles \u001b[38;5;241m=\u001b[39m \u001b[38;5;28;01mNone\u001b[39;00m\n\u001b[0;32m----> 3\u001b[0m     smiles \u001b[38;5;241m=\u001b[39m \u001b[43msf\u001b[49m\u001b[38;5;241;43m.\u001b[39;49m\u001b[43mdecoder\u001b[49m\u001b[43m(\u001b[49m\u001b[43mselfies\u001b[49m\u001b[43m)\u001b[49m\n\u001b[1;32m      5\u001b[0m     \u001b[38;5;28;01mtry\u001b[39;00m:\n\u001b[1;32m      6\u001b[0m         canon_smiles \u001b[38;5;241m=\u001b[39m Chem\u001b[38;5;241m.\u001b[39mMolToSmiles(Chem\u001b[38;5;241m.\u001b[39mMolFromSmiles(smiles))\n",
      "File \u001b[0;32m~/miniconda3/envs/gdb/lib/python3.10/site-packages/selfies/decoder.py:59\u001b[0m, in \u001b[0;36mdecoder\u001b[0;34m(selfies, compatible, attribute)\u001b[0m\n\u001b[1;32m     57\u001b[0m rings \u001b[38;5;241m=\u001b[39m []\n\u001b[1;32m     58\u001b[0m attribution_index \u001b[38;5;241m=\u001b[39m \u001b[38;5;241m0\u001b[39m\n\u001b[0;32m---> 59\u001b[0m \u001b[38;5;28;01mfor\u001b[39;00m s \u001b[38;5;129;01min\u001b[39;00m \u001b[43mselfies\u001b[49m\u001b[38;5;241;43m.\u001b[39;49m\u001b[43msplit\u001b[49m(\u001b[38;5;124m\"\u001b[39m\u001b[38;5;124m.\u001b[39m\u001b[38;5;124m\"\u001b[39m):\n\u001b[1;32m     60\u001b[0m     n \u001b[38;5;241m=\u001b[39m _derive_mol_from_symbols(\n\u001b[1;32m     61\u001b[0m         symbol_iter\u001b[38;5;241m=\u001b[39m\u001b[38;5;28menumerate\u001b[39m(_tokenize_selfies(s, compatible)),\n\u001b[1;32m     62\u001b[0m         mol\u001b[38;5;241m=\u001b[39mmol,\n\u001b[0;32m   (...)\u001b[0m\n\u001b[1;32m     69\u001b[0m         attribution_index\u001b[38;5;241m=\u001b[39mattribution_index\n\u001b[1;32m     70\u001b[0m     )\n\u001b[1;32m     71\u001b[0m     attribution_index \u001b[38;5;241m+\u001b[39m\u001b[38;5;241m=\u001b[39m n\n",
      "\u001b[0;31mAttributeError\u001b[0m: 'float' object has no attribute 'split'"
     ]
    }
   ],
   "source": [
    "train_sas_df[\"smiles\"] = train_sas_df[\"selfies\"].apply(make_canonical_smiles)\n",
    "print(\"Lenght\", len(train_sas_df))\n",
    "train_sas_df.head()"
   ]
  },
  {
   "cell_type": "code",
   "execution_count": null,
   "id": "81ed88cd",
   "metadata": {},
   "outputs": [],
   "source": [
    "# Check intersection\n",
    "len(set(train_sas_df[\"smiles\"].values).intersection(set(non_gen_sas_df[\"smiles\"].values)))"
   ]
  },
  {
   "cell_type": "code",
   "execution_count": null,
   "id": "55eda8ca",
   "metadata": {},
   "outputs": [],
   "source": [
    "plt.figure(figsize=(10,8))\n",
    "\n",
    "plt.hist(train_sas_df['ppl'].values, alpha=0.5, density=False, range=[1.3,2.8], label=\"Train\", bins=50)\n",
    "plt.hist(gen_sas_df['ppl'].values[:10_000], alpha=0.5, density=False, range=[1.3,2.8], label=\"Generated\", bins=50)\n",
    "plt.hist(non_gen_sas_df['ppl'].values[:10_000], alpha=0.5, density=False, range=[1.3,2.8], label=\"Not Generated\", bins=50)\n",
    "\n",
    "plt.xlabel(\"Perplexity\")\n",
    "plt.ylabel(\"Frequency (log)\")\n",
    "plt.yscale(\"log\")\n",
    "plt.title(\"Distributions of SAS PPL [bins=50]\");\n",
    "plt.legend(loc='upper right')\n",
    "\n",
    "plt.show()"
   ]
  },
  {
   "cell_type": "code",
   "execution_count": null,
   "id": "7ffeb23d",
   "metadata": {},
   "outputs": [],
   "source": [
    "print(f\"Generated Mean PPL {gen_sas_df['ppl'].mean():.2f}\")\n",
    "print(f\"Not Generated Mean PPL {non_gen_sas_df['ppl'].mean():.2f}\")\n",
    "print(f\"Train Mean PPL {train_sas_df['ppl'].mean():.2f}\")"
   ]
  },
  {
   "cell_type": "markdown",
   "id": "8fde4347",
   "metadata": {},
   "source": [
    "## Perplexities of Aspirin"
   ]
  },
  {
   "cell_type": "code",
   "execution_count": 12,
   "id": "28033393",
   "metadata": {},
   "outputs": [
    {
     "name": "stdout",
     "output_type": "stream",
     "text": [
      "Lenght 12288\n"
     ]
    },
    {
     "data": {
      "text/html": [
       "<div>\n",
       "<style scoped>\n",
       "    .dataframe tbody tr th:only-of-type {\n",
       "        vertical-align: middle;\n",
       "    }\n",
       "\n",
       "    .dataframe tbody tr th {\n",
       "        vertical-align: top;\n",
       "    }\n",
       "\n",
       "    .dataframe thead th {\n",
       "        text-align: right;\n",
       "    }\n",
       "</style>\n",
       "<table border=\"1\" class=\"dataframe\">\n",
       "  <thead>\n",
       "    <tr style=\"text-align: right;\">\n",
       "      <th></th>\n",
       "      <th>ppl</th>\n",
       "      <th>smiles</th>\n",
       "    </tr>\n",
       "  </thead>\n",
       "  <tbody>\n",
       "    <tr>\n",
       "      <th>0</th>\n",
       "      <td>1.54</td>\n",
       "      <td>COC(=O)C12CC1(O)C(=O)C(C)O2CC1=CC(O)C(=O)C1C1O...</td>\n",
       "    </tr>\n",
       "    <tr>\n",
       "      <th>1</th>\n",
       "      <td>1.56</td>\n",
       "      <td>C=C(C=CC=O)OC1C(=O)CC1CCC=C(CC(=O)O)C1CC1(C)OC</td>\n",
       "    </tr>\n",
       "    <tr>\n",
       "      <th>2</th>\n",
       "      <td>1.52</td>\n",
       "      <td>CC(C=O)=CC(C)(O)C(C=O)C=OC=C1C(=O)C2(C)OC1C2OC=O</td>\n",
       "    </tr>\n",
       "    <tr>\n",
       "      <th>3</th>\n",
       "      <td>1.52</td>\n",
       "      <td>C=CC1C=CC(O)C(=O)CC(=O)C1C#CC1C(O)C1C(C=O)=CCC=C</td>\n",
       "    </tr>\n",
       "    <tr>\n",
       "      <th>4</th>\n",
       "      <td>1.55</td>\n",
       "      <td>CC1=CCC(C2CC2C=O)OC1=OC=C(C=O)C1(C)C(=O)OC2CC21</td>\n",
       "    </tr>\n",
       "  </tbody>\n",
       "</table>\n",
       "</div>"
      ],
      "text/plain": [
       "    ppl                                             smiles\n",
       "0  1.54  COC(=O)C12CC1(O)C(=O)C(C)O2CC1=CC(O)C(=O)C1C1O...\n",
       "1  1.56     C=C(C=CC=O)OC1C(=O)CC1CCC=C(CC(=O)O)C1CC1(C)OC\n",
       "2  1.52   CC(C=O)=CC(C)(O)C(C=O)C=OC=C1C(=O)C2(C)OC1C2OC=O\n",
       "3  1.52   C=CC1C=CC(O)C(=O)CC(=O)C1C#CC1C(O)C1C(C=O)=CCC=C\n",
       "4  1.55    CC1=CCC(C2CC2C=O)OC1=OC=C(C=O)C1(C)C(=O)OC2CC21"
      ]
     },
     "execution_count": 12,
     "metadata": {},
     "output_type": "execute_result"
    }
   ],
   "source": [
    "gen_aspirin_df = pd.read_csv(\"data-bin-gen-aspirin.csv\", names=[\"ppl\", \"smiles\"])\n",
    "print(\"Lenght\", len(gen_aspirin_df))\n",
    "gen_aspirin_df.head()"
   ]
  },
  {
   "cell_type": "code",
   "execution_count": 13,
   "id": "01ff858f",
   "metadata": {},
   "outputs": [
    {
     "name": "stdout",
     "output_type": "stream",
     "text": [
      "Lenght 10240\n"
     ]
    },
    {
     "data": {
      "text/html": [
       "<div>\n",
       "<style scoped>\n",
       "    .dataframe tbody tr th:only-of-type {\n",
       "        vertical-align: middle;\n",
       "    }\n",
       "\n",
       "    .dataframe tbody tr th {\n",
       "        vertical-align: top;\n",
       "    }\n",
       "\n",
       "    .dataframe thead th {\n",
       "        text-align: right;\n",
       "    }\n",
       "</style>\n",
       "<table border=\"1\" class=\"dataframe\">\n",
       "  <thead>\n",
       "    <tr style=\"text-align: right;\">\n",
       "      <th></th>\n",
       "      <th>ppl</th>\n",
       "      <th>smiles</th>\n",
       "    </tr>\n",
       "  </thead>\n",
       "  <tbody>\n",
       "    <tr>\n",
       "      <th>0</th>\n",
       "      <td>1.51</td>\n",
       "      <td>O=CC1CC2CC2(C=O)C1C(=O)OO=CC(=O)C12CC3OC(C1)C3...</td>\n",
       "    </tr>\n",
       "    <tr>\n",
       "      <th>1</th>\n",
       "      <td>1.63</td>\n",
       "      <td>O=CC1(O)CCOC=C1OC1CC1CC(=O)OC1C=Cc2c1coc2C</td>\n",
       "    </tr>\n",
       "    <tr>\n",
       "      <th>2</th>\n",
       "      <td>1.51</td>\n",
       "      <td>CC=CCCC(=O)C1C(O)C1C=OCOC12OCC3CC1C(O)(C3)C2=O</td>\n",
       "    </tr>\n",
       "    <tr>\n",
       "      <th>3</th>\n",
       "      <td>1.61</td>\n",
       "      <td>CC(C(N)=O)c1ccsc1OC=OO=CC1C=CCC=C1C1COC1=O</td>\n",
       "    </tr>\n",
       "    <tr>\n",
       "      <th>4</th>\n",
       "      <td>1.54</td>\n",
       "      <td>CC=CC1CC(O)C(C)OC1=OC=C1COC(=O)C(O)C1C(C)(C)O</td>\n",
       "    </tr>\n",
       "  </tbody>\n",
       "</table>\n",
       "</div>"
      ],
      "text/plain": [
       "    ppl                                             smiles\n",
       "0  1.51  O=CC1CC2CC2(C=O)C1C(=O)OO=CC(=O)C12CC3OC(C1)C3...\n",
       "1  1.63         O=CC1(O)CCOC=C1OC1CC1CC(=O)OC1C=Cc2c1coc2C\n",
       "2  1.51     CC=CCCC(=O)C1C(O)C1C=OCOC12OCC3CC1C(O)(C3)C2=O\n",
       "3  1.61         CC(C(N)=O)c1ccsc1OC=OO=CC1C=CCC=C1C1COC1=O\n",
       "4  1.54      CC=CC1CC(O)C(C)OC1=OC=C1COC(=O)C(O)C1C(C)(C)O"
      ]
     },
     "execution_count": 13,
     "metadata": {},
     "output_type": "execute_result"
    }
   ],
   "source": [
    "non_gen_aspirin_df = pd.read_csv(\"data-bin-non-aspirin.csv\", names=[\"ppl\", \"smiles\"])\n",
    "print(\"Lenght\", len(non_gen_aspirin_df))\n",
    "non_gen_aspirin_df.head()"
   ]
  },
  {
   "cell_type": "code",
   "execution_count": 8,
   "id": "2f9be9d1",
   "metadata": {},
   "outputs": [
    {
     "name": "stdout",
     "output_type": "stream",
     "text": [
      "Lenght 12288\n"
     ]
    },
    {
     "data": {
      "text/html": [
       "<div>\n",
       "<style scoped>\n",
       "    .dataframe tbody tr th:only-of-type {\n",
       "        vertical-align: middle;\n",
       "    }\n",
       "\n",
       "    .dataframe tbody tr th {\n",
       "        vertical-align: top;\n",
       "    }\n",
       "\n",
       "    .dataframe thead th {\n",
       "        text-align: right;\n",
       "    }\n",
       "</style>\n",
       "<table border=\"1\" class=\"dataframe\">\n",
       "  <thead>\n",
       "    <tr style=\"text-align: right;\">\n",
       "      <th></th>\n",
       "      <th>ppl</th>\n",
       "      <th>smiles</th>\n",
       "    </tr>\n",
       "  </thead>\n",
       "  <tbody>\n",
       "    <tr>\n",
       "      <th>0</th>\n",
       "      <td>1.61</td>\n",
       "      <td>CC(C=O)OC1CC(CO)CC1OC=c1oc(=C2COCO2)ccc1=O</td>\n",
       "    </tr>\n",
       "    <tr>\n",
       "      <th>1</th>\n",
       "      <td>1.54</td>\n",
       "      <td>C=C1C(C#N)OC(OC)C(=C)C1OC=C(C)C(OC)C1C(=O)CCC1O</td>\n",
       "    </tr>\n",
       "    <tr>\n",
       "      <th>2</th>\n",
       "      <td>1.53</td>\n",
       "      <td>CC(=CC=O)OC1C2OCC(=O)C21C=C(C)C1OC2C=CC(O2)C1=O</td>\n",
       "    </tr>\n",
       "    <tr>\n",
       "      <th>3</th>\n",
       "      <td>1.47</td>\n",
       "      <td>CC1(C)C(O)CC2C1C2(O)C(=O)OCC1CC1OC1C(C)C1(O)C(...</td>\n",
       "    </tr>\n",
       "    <tr>\n",
       "      <th>4</th>\n",
       "      <td>1.57</td>\n",
       "      <td>CC1C(=O)C2CCOC2C(C)C1OC#CC=COC(C)C1OC(C)C1=O</td>\n",
       "    </tr>\n",
       "  </tbody>\n",
       "</table>\n",
       "</div>"
      ],
      "text/plain": [
       "    ppl                                             smiles\n",
       "0  1.61         CC(C=O)OC1CC(CO)CC1OC=c1oc(=C2COCO2)ccc1=O\n",
       "1  1.54    C=C1C(C#N)OC(OC)C(=C)C1OC=C(C)C(OC)C1C(=O)CCC1O\n",
       "2  1.53    CC(=CC=O)OC1C2OCC(=O)C21C=C(C)C1OC2C=CC(O2)C1=O\n",
       "3  1.47  CC1(C)C(O)CC2C1C2(O)C(=O)OCC1CC1OC1C(C)C1(O)C(...\n",
       "4  1.57       CC1C(=O)C2CCOC2C(C)C1OC#CC=COC(C)C1OC(C)C1=O"
      ]
     },
     "execution_count": 8,
     "metadata": {},
     "output_type": "execute_result"
    }
   ],
   "source": [
    "train_aspirin_df = pd.read_csv(\"data-bin-train-aspirin.csv\", names=[\"ppl\", \"smiles\"])\n",
    "print(\"Lenght\", len(train_aspirin_df))\n",
    "train_aspirin_df.head()"
   ]
  },
  {
   "cell_type": "code",
   "execution_count": 15,
   "id": "d43b91ef",
   "metadata": {},
   "outputs": [
    {
     "data": {
      "text/plain": [
       "set()"
      ]
     },
     "execution_count": 15,
     "metadata": {},
     "output_type": "execute_result"
    }
   ],
   "source": [
    "# Check intersection\n",
    "set(gen_aspirin_df[\"smiles\"].values).intersection(set(non_gen_aspirin_df[\"smiles\"].values))"
   ]
  },
  {
   "cell_type": "code",
   "execution_count": 16,
   "id": "0f31a9b5",
   "metadata": {},
   "outputs": [
    {
     "data": {
      "text/plain": [
       "set()"
      ]
     },
     "execution_count": 16,
     "metadata": {},
     "output_type": "execute_result"
    }
   ],
   "source": [
    "# Check intersection\n",
    "set(train_aspirin_df[\"smiles\"].values).intersection(set(non_gen_aspirin_df[\"smiles\"].values))"
   ]
  },
  {
   "cell_type": "code",
   "execution_count": 17,
   "id": "66aa0ace",
   "metadata": {},
   "outputs": [
    {
     "data": {
      "image/png": "[encoded data removed]",
      "text/plain": [
       "<Figure size 1000x800 with 1 Axes>"
      ]
     },
     "metadata": {},
     "output_type": "display_data"
    }
   ],
   "source": [
    "plt.figure(figsize=(10,8))\n",
    "\n",
    "plt.hist(train_aspirin_df['ppl'].values[:10_000], alpha=0.5, density=False, range=[1.3,2.2], label=\"Train\", bins=50)\n",
    "plt.hist(gen_aspirin_df['ppl'].values[:10_000], alpha=0.5, density=False, range=[1.3,2.2], label=\"Generated\", bins=50)\n",
    "plt.hist(non_gen_aspirin_df['ppl'].values[:10_000], alpha=0.5, density=False, range=[1.3,2.2], label=\"Not Generated\", bins=50)\n",
    "\n",
    "plt.xlabel(\"Perplexity\")\n",
    "plt.ylabel(\"Frequency (log)\")\n",
    "plt.yscale(\"log\")\n",
    "plt.title(\"Distributions of Aspirin PPL [bins=50]\");\n",
    "plt.legend(loc='upper right')\n",
    "\n",
    "plt.show()"
   ]
  },
  {
   "cell_type": "code",
   "execution_count": 18,
   "id": "67e9b9ea",
   "metadata": {},
   "outputs": [
    {
     "name": "stdout",
     "output_type": "stream",
     "text": [
      "Generated Mean PPL 1.53\n",
      "Not Generated Mean PPL 1.58\n",
      "Train Mean PPL 1.56\n"
     ]
    }
   ],
   "source": [
    "print(f\"Generated Mean PPL {gen_aspirin_df['ppl'].mean():.2f}\")\n",
    "print(f\"Not Generated Mean PPL {non_gen_aspirin_df['ppl'].mean():.2f}\")\n",
    "print(f\"Train Mean PPL {train_aspirin_df['ppl'].mean():.2f}\")"
   ]
  },
  {
   "cell_type": "code",
   "execution_count": null,
   "id": "bfe76214",
   "metadata": {},
   "outputs": [],
   "source": []
  }
 ],
 "metadata": {
  "kernelspec": {
   "display_name": "Python 3 (ipykernel)",
   "language": "python",
   "name": "python3"
  },
  "language_info": {
   "codemirror_mode": {
    "name": "ipython",
    "version": 3
   },
   "file_extension": ".py",
   "mimetype": "text/x-python",
   "name": "python",
   "nbconvert_exporter": "python",
   "pygments_lexer": "ipython3",
   "version": "3.10.9"
  }
 },
 "nbformat": 4,
 "nbformat_minor": 5
}
